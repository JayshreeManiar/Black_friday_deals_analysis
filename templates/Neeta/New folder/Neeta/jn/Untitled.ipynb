{
 "cells": [
  {
   "cell_type": "code",
   "execution_count": 1,
   "metadata": {},
   "outputs": [],
   "source": [
    "%matplotlib inline\n",
    "from matplotlib import style\n",
    "style.use('fivethirtyeight')\n",
    "import matplotlib.pyplot as plt"
   ]
  },
  {
   "cell_type": "code",
   "execution_count": 2,
   "metadata": {},
   "outputs": [],
   "source": [
    "import numpy as np\n",
    "import pandas as pd"
   ]
  },
  {
   "cell_type": "code",
   "execution_count": 3,
   "metadata": {},
   "outputs": [],
   "source": [
    "# Python SQL toolkit and Object Relational Mapper\n",
    "import sqlalchemy\n",
    "from sqlalchemy.ext.automap import automap_base\n",
    "from sqlalchemy.orm import Session\n",
    "from sqlalchemy import create_engine, func"
   ]
  },
  {
   "cell_type": "code",
   "execution_count": 4,
   "metadata": {},
   "outputs": [],
   "source": [
    "engine = create_engine(\"sqlite:///blackfriday.sqlite\")"
   ]
  },
  {
   "cell_type": "code",
   "execution_count": 5,
   "metadata": {},
   "outputs": [],
   "source": [
    "# reflect an existing database into a new model\n",
    "Base = automap_base()\n",
    "# reflect the tables\n",
    "Base.prepare(engine, reflect=True)"
   ]
  },
  {
   "cell_type": "code",
   "execution_count": 6,
   "metadata": {},
   "outputs": [
    {
     "data": {
      "text/plain": [
       "['blackfriday']"
      ]
     },
     "execution_count": 6,
     "metadata": {},
     "output_type": "execute_result"
    }
   ],
   "source": [
    "# We can view all of the classes that automap found\n",
    "Base.classes.keys()"
   ]
  },
  {
   "cell_type": "code",
   "execution_count": 7,
   "metadata": {},
   "outputs": [],
   "source": [
    "# Save references to each table\n",
    "Blackfriday = Base.classes.blackfriday"
   ]
  },
  {
   "cell_type": "code",
   "execution_count": 8,
   "metadata": {},
   "outputs": [],
   "source": [
    "# Create our session (link) from Python to the DB\n",
    "session = Session(engine)"
   ]
  },
  {
   "cell_type": "code",
   "execution_count": 11,
   "metadata": {},
   "outputs": [
    {
     "data": {
      "text/plain": [
       "[(147936)]"
      ]
     },
     "execution_count": 11,
     "metadata": {},
     "output_type": "execute_result"
    }
   ],
   "source": [
    "# How many cities are available in this dataset?\n",
    "session.query(func.count(Blackfriday.city_category)).all()"
   ]
  },
  {
   "cell_type": "code",
   "execution_count": 12,
   "metadata": {},
   "outputs": [
    {
     "data": {
      "text/plain": [
       "[(4, 19889),\n",
       " (0, 18603),\n",
       " (7, 15788),\n",
       " (17, 12468),\n",
       " (1, 11983),\n",
       " (12, 9299),\n",
       " (20, 8140),\n",
       " (14, 7411),\n",
       " (2, 6627),\n",
       " (16, 6488),\n",
       " (6, 5168),\n",
       " (3, 4472),\n",
       " (10, 3850),\n",
       " (15, 3512),\n",
       " (5, 3456),\n",
       " (11, 2882),\n",
       " (19, 2143),\n",
       " (13, 1809),\n",
       " (18, 1786),\n",
       " (9, 1675),\n",
       " (8, 487)]"
      ]
     },
     "execution_count": 12,
     "metadata": {},
     "output_type": "execute_result"
    }
   ],
   "source": [
    "# What are the most active stations?\n",
    "# List the stations and the counts in descending order.\n",
    "session.query(Blackfriday.occupation, func.count(Blackfriday.occupation)).\\\n",
    "    group_by(Blackfriday.occupation).order_by(func.count(Blackfriday.occupation).desc()).all()"
   ]
  },
  {
   "cell_type": "code",
   "execution_count": 18,
   "metadata": {},
   "outputs": [
    {
     "data": {
      "text/plain": [
       "[('0-17', 10),\n",
       " ('18-25', 12),\n",
       " ('26-35', 4),\n",
       " ('36-45', 9),\n",
       " ('46-50', 1),\n",
       " ('51-55', 0),\n",
       " ('55+', 7)]"
      ]
     },
     "execution_count": 18,
     "metadata": {},
     "output_type": "execute_result"
    }
   ],
   "source": [
    "session.query(Blackfriday.age, Blackfriday.occupation).group_by(Blackfriday.age).all()"
   ]
  },
  {
   "cell_type": "code",
   "execution_count": 20,
   "metadata": {},
   "outputs": [
    {
     "data": {
      "text/plain": [
       "[('0-17', 10051, 10),\n",
       " ('18-25', 2138, 12),\n",
       " ('26-35', 15496, 4),\n",
       " ('36-45', 8390, 9),\n",
       " ('46-50', 5229, 1),\n",
       " ('51-55', 15628, 0),\n",
       " ('55+', 6421, 7)]"
      ]
     },
     "execution_count": 20,
     "metadata": {},
     "output_type": "execute_result"
    }
   ],
   "source": [
    "session.query(Blackfriday.age,Blackfriday.purchase, Blackfriday.occupation).group_by(Blackfriday.age).all()"
   ]
  },
  {
   "cell_type": "code",
   "execution_count": 16,
   "metadata": {},
   "outputs": [
    {
     "ename": "SyntaxError",
     "evalue": "invalid syntax (<ipython-input-16-5b2e1ec8bdf8>, line 2)",
     "output_type": "error",
     "traceback": [
      "\u001b[1;36m  File \u001b[1;32m\"<ipython-input-16-5b2e1ec8bdf8>\"\u001b[1;36m, line \u001b[1;32m2\u001b[0m\n\u001b[1;33m    results = session.query(Blackfriday.age,, Blackfriday.occupation).filter(Blackfriday.purchase >= 10,000).all()\u001b[0m\n\u001b[1;37m                                            ^\u001b[0m\n\u001b[1;31mSyntaxError\u001b[0m\u001b[1;31m:\u001b[0m invalid syntax\n"
     ]
    }
   ],
   "source": [
    "# Perform a query to retrieve the data and precipitation scores\n",
    "results = session.query(Blackfriday.age,, Blackfriday.occupation).filter(Blackfriday.purchase >= 10,000).all()\n"
   ]
  },
  {
   "cell_type": "code",
   "execution_count": 65,
   "metadata": {},
   "outputs": [],
   "source": [
    "# Dependencies\n",
    "from splinter import Browser\n",
    "from bs4 import BeautifulSoup\n",
    "import requests\n",
    "import pymongo\n",
    "import re\n",
    "import pandas as pd"
   ]
  },
  {
   "cell_type": "code",
   "execution_count": 66,
   "metadata": {},
   "outputs": [],
   "source": [
    "# get chromedriver\n",
    "executable_path = {'executable_path': 'chromedriver.exe'}\n",
    "browser = Browser('chrome', **executable_path, headless=False)"
   ]
  },
  {
   "cell_type": "code",
   "execution_count": 67,
   "metadata": {},
   "outputs": [],
   "source": [
    "mission_url = \"https://blackfriday.com/ads/black-friday\"\n",
    "browser.visit(mission_url)"
   ]
  },
  {
   "cell_type": "code",
   "execution_count": 68,
   "metadata": {},
   "outputs": [],
   "source": [
    "# Create a Beautiful Soup object\n",
    "html = browser.html\n",
    "soup = BeautifulSoup(html, 'html.parser')\n",
    "#soup.prettify()"
   ]
  },
  {
   "cell_type": "code",
   "execution_count": 69,
   "metadata": {},
   "outputs": [
    {
     "name": "stdout",
     "output_type": "stream",
     "text": [
      "news_title = Black Friday 2019 Ads\n"
     ]
    }
   ],
   "source": [
    "news_title = soup.find('h1').text\n",
    "print(f\"news_title = {news_title}\")"
   ]
  },
  {
   "cell_type": "code",
   "execution_count": 48,
   "metadata": {},
   "outputs": [
    {
     "data": {
      "text/plain": [
       "[<div class=\"image-container\"><a href=\"/ads/black-friday/amazon/id/06CQx3uUz1BFRuQSjtyxyNH\"><img alt=\"Amazon\" src=\"https://i.blackfriday.com/imagery/ad-scan-pages/44305.fit_lim.size_400x.v_1568056632.jpg\"/></a></div>,\n",
       " <div class=\"image-container\"><a href=\"/ads/black-friday/target/id/06Ak8clolBR1yMqCCYU3YNM\"><img alt=\"Target\" src=\"https://i.blackfriday.com/imagery/ad-scan-pages/44299.fit_lim.size_400x.v_1567527559.jpg\"/></a></div>,\n",
       " <div class=\"image-container\"><a href=\"/ads/black-friday/walmart/id/07ntbPmBvtjjWKJhUxHdrFp\"><img alt=\"Walmart\" src=\"https://i.blackfriday.com/imagery/print-ad-pages/44216.fit_lim.size_400x.v_1566919081.jpg\"/></a></div>,\n",
       " <div class=\"image-container\"><a href=\"/ads/black-friday/walmart\"><img alt=\"Walmart\" src=\"https://i.blackfriday.com/imagery/print-ad-pages/41664.fit_lim.size_400x.v_1560195807.jpg\"/></a></div>,\n",
       " <div class=\"image-container\"><a href=\"/ads/black-friday/best-buy\"><img alt=\"Best Buy\" src=\"https://i.blackfriday.com/imagery/print-ad-pages/41612.fit_lim.size_400x.v_1555614811.jpg\"/></a></div>,\n",
       " <div class=\"image-container\"><a href=\"/ads/black-friday/target\"><img alt=\"Target\" src=\"https://i.blackfriday.com/imagery/print-ad-pages/40230.fit_lim.size_400x.v_1555614955.jpg\"/></a></div>,\n",
       " <div class=\"image-container\"><a href=\"/ads/black-friday/amazon\"><img alt=\"Amazon\" src=\"https://i.blackfriday.com/imagery/print-ad-pages/42532.fit_lim.size_400x.v_1542556998.jpg\"/></a></div>,\n",
       " <div class=\"image-container\"><a href=\"/ads/black-friday/gamestop\"><img alt=\"GameStop\" src=\"https://i.blackfriday.com/imagery/print-ad-pages/42828.fit_lim.size_400x.v_1542731926.jpg\"/></a></div>,\n",
       " <div class=\"image-container\"><a href=\"/ads/black-friday/macys\"><img alt=\"Macy's\" src=\"https://i.blackfriday.com/imagery/print-ad-pages/40967.fit_lim.size_400x.v_1560196102.jpg\"/></a></div>,\n",
       " <div class=\"image-container\"><a href=\"/ads/black-friday/kohls\"><img alt=\"Kohl's\" src=\"https://i.blackfriday.com/imagery/print-ad-pages/41730.fit_lim.size_400x.v_1555615323.jpg\"/></a></div>,\n",
       " <div class=\"image-container\"><a href=\"/ads/black-friday/home-depot\"><img alt=\"Home Depot\" src=\"https://i.blackfriday.com/imagery/print-ad-pages/42675.fit_lim.size_400x.v_1560196097.jpg\"/></a></div>,\n",
       " <div class=\"image-container\"><a href=\"/ads/black-friday/jcpenney\"><img alt=\"JCPenney\" src=\"https://i.blackfriday.com/imagery/print-ad-pages/40403.fit_lim.size_400x.v_1560196084.jpg\"/></a></div>,\n",
       " <div class=\"image-container\"><a href=\"/ads/black-friday/home-depot/id/07syV2S7ba6zH97FL5JhF2Y\"><img alt=\"Home Depot\" src=\"https://i.blackfriday.com/imagery/print-ad-pages/43150.fit_lim.size_400x.v_1555615080.jpg\"/></a></div>,\n",
       " <div class=\"image-container\"><a href=\"/ads/black-friday/lenovo\"><img alt=\"Lenovo\" src=\"https://i.blackfriday.com/imagery/print-ad-pages/41377.fit_lim.size_400x.v_1542742181.jpg\"/></a></div>,\n",
       " <div class=\"image-container\"><a href=\"/ads/black-friday/dell-consumer/id/04OUJRFwjGpDLwNjWvSgeN6\"><img alt=\"Dell\" src=\"https://i.blackfriday.com/imagery/print-ad-pages/40117.fit_lim.size_400x.v_1542834398.jpg\"/></a></div>,\n",
       " <div class=\"image-container\"><a href=\"/ads/black-friday/amazon/id/01xJeIEGIXwWHbVdlPYgSW6\"><img alt=\"Amazon\" src=\"https://i.blackfriday.com/imagery/print-ad-pages/41011.fit_lim.size_400x.v_1542834443.jpg\"/></a></div>,\n",
       " <div class=\"image-container\"><a href=\"/ads/black-friday/kohls/id/02oU37UjY4fOapBipsXQy14\"><img alt=\"Kohl's\" src=\"https://i.blackfriday.com/imagery/print-ad-pages/38993.fit_lim.size_400x.v_1542383895.jpg\"/></a></div>,\n",
       " <div class=\"image-container\"><a href=\"/ads/black-friday/belk\"><img alt=\"belk\" src=\"https://i.blackfriday.com/imagery/print-ad-pages/40663.fit_lim.size_400x.v_1542835351.jpg\"/></a></div>,\n",
       " <div class=\"image-container\"><a href=\"/ads/black-friday/dell-consumer/id/03TothFIxciBqhCEHqkYbwX\"><img alt=\"Dell\" src=\"https://i.blackfriday.com/imagery/ad-scan-pages/44311.fit_lim.size_400x.v_1568219120.jpg\"/></a></div>,\n",
       " <div class=\"image-container\"><a href=\"/ads/black-friday/home-depot/id/05wk9QCJ6huNN4UtZZb0BiX\"><img alt=\"Home Depot\" src=\"https://i.blackfriday.com/imagery/print-ad-pages/44283.fit_lim.size_400x.v_1567084878.jpg\"/></a></div>]"
      ]
     },
     "execution_count": 48,
     "metadata": {},
     "output_type": "execute_result"
    }
   ],
   "source": [
    "#seven_day = soup.find(id=\"seven-day-forecast\")\n",
    "forecast_items = soup.find_all(class_=\"image-container\")\n",
    "#links=forecast_items.find(class_=\"raise\")\n",
    "forecast_items"
   ]
  },
  {
   "cell_type": "code",
   "execution_count": 70,
   "metadata": {},
   "outputs": [
    {
     "data": {
      "text/plain": [
       "[<a href=\"https://blackfriday.com\"><img alt=\"BlackFriday.com\" src=\"/images/logo-white.svg\"/></a>,\n",
       " <a class=\"secondary\" href=\"/ads/black-friday/walmart\">Walmart</a>,\n",
       " <a class=\"secondary\" href=\"/ads/black-friday/target\">Target</a>,\n",
       " <a class=\"secondary\" href=\"/ads/black-friday/best-buy\">Best Buy</a>,\n",
       " <a class=\"secondary\" href=\"/ads/black-friday/kohls\">Kohl's</a>,\n",
       " <a class=\"secondary\" href=\"/ads/black-friday/home-depot\">Home Depot</a>,\n",
       " <a class=\"secondary\" href=\"/ads/black-friday/lowes\">Lowe's</a>,\n",
       " <a class=\"secondary\" href=\"/ads/black-friday/gamestop\">Gamestop</a>,\n",
       " <a class=\"secondary\" href=\"/ads/black-friday/macys\">Macy's</a>,\n",
       " <a class=\"secondary\" href=\"/ads/black-friday/jcpenney\">JCPenney</a>,\n",
       " <a class=\"secondary\" href=\"/ads/black-friday/cabelas\">Cabela's</a>,\n",
       " <a class=\"secondary\" href=\"/ads/black-friday\">All Black Friday Ad Scans</a>,\n",
       " <a href=\"/stores/black-friday\"><strong>Black Friday</strong></a>,\n",
       " <a class=\"secondary\" href=\"/walmart-black-friday\">Walmart</a>,\n",
       " <a class=\"secondary\" href=\"/best-buy-black-friday\">Best Buy</a>,\n",
       " <a class=\"secondary\" href=\"/target-black-friday\">Target</a>,\n",
       " <a class=\"secondary\" href=\"/amazon-black-friday\">Amazon</a>,\n",
       " <a class=\"secondary\" href=\"/kohls-black-friday\">Kohl's</a>,\n",
       " <a class=\"secondary\" href=\"/jcpenney-black-friday\">JCPenney</a>,\n",
       " <a class=\"secondary\" href=\"/home-depot-black-friday\">Home Depot</a>,\n",
       " <a class=\"secondary\" href=\"/macys-black-friday\">Macy's</a>,\n",
       " <a class=\"secondary\" href=\"/lowes-black-friday\">Lowe's</a>,\n",
       " <a class=\"secondary\" href=\"/gamestop-black-friday\">Gamestop</a>,\n",
       " <a class=\"secondary\" href=\"/stores/black-friday\">All Black Friday Stores</a>,\n",
       " <a class=\"secondary\" href=\"/black-friday-store-hours\">Black Friday Store Hours</a>,\n",
       " <a href=\"/cyber-monday\"><strong>Cyber Monday</strong></a>,\n",
       " <a class=\"secondary\" href=\"/amazon-cyber-monday\">Amazon</a>,\n",
       " <a class=\"secondary\" href=\"/walmart-cyber-monday\">Walmart</a>,\n",
       " <a class=\"secondary\" href=\"/best-buy-cyber-monday\">Best Buy</a>,\n",
       " <a class=\"secondary\" href=\"/target-cyber-monday\">Target</a>,\n",
       " <a class=\"secondary\" href=\"/kohls-cyber-monday\">Kohl's</a>,\n",
       " <a class=\"secondary\" href=\"/macys-cyber-monday\">Macy's</a>,\n",
       " <a class=\"secondary\" href=\"/home-depot-cyber-monday\">Home Depot</a>,\n",
       " <a class=\"secondary\" href=\"/jcpenney-cyber-monday\">JCPenney</a>,\n",
       " <a class=\"secondary\" href=\"/gamestop-cyber-monday\">Gamestop</a>,\n",
       " <a class=\"secondary\" href=\"/lowes-cyber-monday\">Lowe's</a>,\n",
       " <a class=\"secondary\" href=\"/stores/cyber-monday\">All Cyber Monday Stores</a>,\n",
       " <a href=\"https://blackfriday.com/deals\"><strong>Top Deals</strong></a>,\n",
       " <a class=\"secondary\" href=\"/categories/laptops\">Laptops</a>,\n",
       " <a class=\"secondary\" href=\"/categories/cellular\">Phones</a>,\n",
       " <a class=\"secondary\" href=\"/categories/televisions\">TVs</a>,\n",
       " <a class=\"secondary\" href=\"/categories/desktops\">Desktops</a>,\n",
       " <a class=\"secondary\" href=\"/categories/digital-cameras\">Cameras</a>,\n",
       " <a class=\"secondary\" href=\"/categories/gaming-consoles-accessories\">Gaming</a>,\n",
       " <a class=\"secondary\" href=\"/categories/clothing\">Clothing</a>,\n",
       " <a class=\"secondary\" href=\"/categories/toys\">Toys</a>,\n",
       " <a class=\"secondary\" href=\"/categories/tablets\">Tablets</a>,\n",
       " <a class=\"secondary\" href=\"/categories/tools-hardware\">Tools</a>,\n",
       " <a class=\"secondary\" href=\"https://blackfriday.com/categories\">All Categories</a>,\n",
       " <a href=\"https://blackfriday.com/product-deals\"><strong>Top Products</strong></a>,\n",
       " <a class=\"secondary\" href=\"/product-deals/nintendo-switch-deals\">Nintendo Switch</a>,\n",
       " <a class=\"secondary\" href=\"/product-deals/xbox-one-x-deals\">Xbox One X</a>,\n",
       " <a class=\"secondary\" href=\"/product-deals/apple-watch-deals\">Apple Watch</a>,\n",
       " <a class=\"secondary\" href=\"/product-deals/playstation-4-deals\">Playstation 4</a>,\n",
       " <a class=\"secondary\" href=\"/product-deals/apple-macbook-deals\">Apple MacBook</a>,\n",
       " <a class=\"secondary\" href=\"/product-deals/roomba-980-deals\">iRobot Roomba 980</a>,\n",
       " <a class=\"secondary\" href=\"/product-deals/ring-security-camera-deals\">Ring Security Camera</a>,\n",
       " <a class=\"secondary\" href=\"/product-deals/samsung-q9-deals\">Samsung 4k Smart TV</a>,\n",
       " <a class=\"secondary\" href=\"/product-deals/lg-smart-tv-deals\">LG 65\" OLED TV</a>,\n",
       " <a class=\"secondary\" href=\"/product-deals/instant-pot-ultra-deals\">Instant Pot</a>,\n",
       " <a class=\"secondary\" href=\"https://blackfriday.com/product-deals\">All Product Deals</a>,\n",
       " <a class=\"secondary\" href=\"https://blackfriday.com/news/top-toys-holidays-2018\">Top Toys for 2019</a>,\n",
       " <a class=\"secondary\" href=\"https://blackfriday.com/news/black-friday-predictions\">Black Friday Predictions for 2019</a>,\n",
       " <a class=\"secondary\" href=\"https://blackfriday.com/news/cyber-week-survey\">Black Friday and Cyber Week Shopping &amp; Spending Survey 2019</a>,\n",
       " <a class=\"secondary\" href=\"https://blackfriday.com/news/black-friday-vs-cyber-monday-what-to-buy-each-day\">Black Friday vs. Cyber Monday: What to Buy Each Day</a>,\n",
       " <a class=\"secondary\" href=\"https://blackfriday.com/news/walmart-toy-list-2019\">Walmart Releases First Toy List of the 2019 Season</a>,\n",
       " <a class=\"secondary\" href=\"/news/tags/black-friday\">Black Friday</a>,\n",
       " <a class=\"secondary\" href=\"/news/tags/cyber-monday\">Cyber Monday</a>,\n",
       " <a class=\"secondary\" href=\"/news/tags/ad-scans\">Ad Scans</a>,\n",
       " <a class=\"secondary\" href=\"https://blackfriday.com/news\">All News</a>,\n",
       " <a class=\"secondary\" href=\"/about/press\">Press</a>,\n",
       " <a class=\"secondary\" href=\"/about/contact\">Contact</a>,\n",
       " <a class=\"secondary\" href=\"/news/black-friday-history\">History of Black Friday</a>,\n",
       " <a href=\"https://blackfriday.com\"><img alt=\"BlackFriday.com\" src=\"/images/logo-white.svg\"/></a>,\n",
       " <a href=\"https://blackfriday.com\"><img alt=\"BlackFriday.com\" src=\"/images/logo-white.svg\"/></a>,\n",
       " <a href=\"/ads/black-friday\">ADS <i class=\"fas fa-angle-down\"></i></a>,\n",
       " <a href=\"/ads/black-friday\">Black Friday</a>,\n",
       " <a href=\"/ads/black-friday/walmart\">Walmart</a>,\n",
       " <a href=\"/ads/black-friday/target\">Target</a>,\n",
       " <a href=\"/ads/black-friday/best-buy\">Best Buy</a>,\n",
       " <a href=\"/ads/black-friday/kohls\">Kohl's</a>,\n",
       " <a href=\"/ads/black-friday/home-depot\">Home Depot</a>,\n",
       " <a href=\"/ads/black-friday/lowes\">Lowe's</a>,\n",
       " <a href=\"/ads/black-friday/gamestop\">Gamestop</a>,\n",
       " <a href=\"/ads/black-friday/macys\">Macy's</a>,\n",
       " <a href=\"/ads/black-friday/jcpenney\">JCPenney</a>,\n",
       " <a href=\"/ads/black-friday/cabelas\">Cabela's</a>,\n",
       " <a href=\"/ads/black-friday\">All Black Friday Ad Scans</a>,\n",
       " <a href=\"/stores/black-friday\">STORES <i class=\"fas fa-angle-down\"></i></a>,\n",
       " <a href=\"/stores/black-friday\">Black Friday</a>,\n",
       " <a href=\"/walmart-black-friday\">Walmart</a>,\n",
       " <a href=\"/best-buy-black-friday\">Best Buy</a>,\n",
       " <a href=\"/target-black-friday\">Target</a>,\n",
       " <a href=\"/amazon-black-friday\">Amazon</a>,\n",
       " <a href=\"/kohls-black-friday\">Kohl's</a>,\n",
       " <a href=\"/jcpenney-black-friday\">JCPenney</a>,\n",
       " <a href=\"/home-depot-black-friday\">Home Depot</a>,\n",
       " <a href=\"/macys-black-friday\">Macy's</a>,\n",
       " <a href=\"/lowes-black-friday\">Lowe's</a>,\n",
       " <a href=\"/gamestop-black-friday\">Gamestop</a>,\n",
       " <a href=\"/stores/black-friday\">All Black Friday Stores</a>,\n",
       " <a href=\"/black-friday-store-hours\">Black Friday Store Hours</a>,\n",
       " <a href=\"/cyber-monday\">Cyber Monday</a>,\n",
       " <a href=\"/amazon-cyber-monday\">Amazon</a>,\n",
       " <a href=\"/walmart-cyber-monday\">Walmart</a>,\n",
       " <a href=\"/best-buy-cyber-monday\">Best Buy</a>,\n",
       " <a href=\"/target-cyber-monday\">Target</a>,\n",
       " <a href=\"/kohls-cyber-monday\">Kohl's</a>,\n",
       " <a href=\"/macys-cyber-monday\">Macy's</a>,\n",
       " <a href=\"/home-depot-cyber-monday\">Home Depot</a>,\n",
       " <a href=\"/jcpenney-cyber-monday\">JCPenney</a>,\n",
       " <a href=\"/gamestop-cyber-monday\">Gamestop</a>,\n",
       " <a href=\"/lowes-cyber-monday\">Lowe's</a>,\n",
       " <a href=\"/stores/cyber-monday\">All Cyber Monday Stores</a>,\n",
       " <a href=\"/deals\">Deals <i class=\"fas fa-angle-down\"></i></a>,\n",
       " <a href=\"https://blackfriday.com/deals\">Top Deals</a>,\n",
       " <a href=\"/categories/laptops\">Laptops</a>,\n",
       " <a href=\"/categories/cellular\">Phones</a>,\n",
       " <a href=\"/categories/televisions\">TVs</a>,\n",
       " <a href=\"/categories/desktops\">Desktops</a>,\n",
       " <a href=\"/categories/digital-cameras\">Cameras</a>,\n",
       " <a href=\"/categories/gaming-consoles-accessories\">Gaming</a>,\n",
       " <a href=\"/categories/clothing\">Clothing</a>,\n",
       " <a href=\"/categories/toys\">Toys</a>,\n",
       " <a href=\"/categories/tablets\">Tablets</a>,\n",
       " <a href=\"/categories/tools-hardware\">Tools</a>,\n",
       " <a href=\"https://blackfriday.com/categories\">All Categories</a>,\n",
       " <a href=\"https://blackfriday.com/product-deals\">Top Products</a>,\n",
       " <a href=\"/product-deals/nintendo-switch-deals\">Nintendo Switch</a>,\n",
       " <a href=\"/product-deals/xbox-one-x-deals\">Xbox One X</a>,\n",
       " <a href=\"/product-deals/apple-watch-deals\">Apple Watch</a>,\n",
       " <a href=\"/product-deals/playstation-4-deals\">Playstation 4</a>,\n",
       " <a href=\"/product-deals/apple-macbook-deals\">Apple MacBook</a>,\n",
       " <a href=\"/product-deals/roomba-980-deals\">iRobot Roomba 980</a>,\n",
       " <a href=\"/product-deals/ring-security-camera-deals\">Ring Security Camera</a>,\n",
       " <a href=\"/product-deals/samsung-q9-deals\">Samsung 4k Smart TV</a>,\n",
       " <a href=\"/product-deals/lg-smart-tv-deals\">LG 65\" OLED TV</a>,\n",
       " <a href=\"/product-deals/instant-pot-ultra-deals\">Instant Pot</a>,\n",
       " <a href=\"https://blackfriday.com/product-deals\">All Product Deals</a>,\n",
       " <a href=\"/news\">NEWS <i class=\"fas fa-angle-down\"></i></a>,\n",
       " <a href=\"https://blackfriday.com/news/top-toys-holidays-2018\">Top Toys for 2019</a>,\n",
       " <a href=\"https://blackfriday.com/news/black-friday-predictions\">Black Friday Predictions for 2019</a>,\n",
       " <a href=\"https://blackfriday.com/news/cyber-week-survey\">Black Friday and Cyber Week Shopping &amp; Spending Survey 2019</a>,\n",
       " <a href=\"https://blackfriday.com/news/black-friday-vs-cyber-monday-what-to-buy-each-day\">Black Friday vs. Cyber Monday: What to Buy Each Day</a>,\n",
       " <a href=\"https://blackfriday.com/news/walmart-toy-list-2019\">Walmart Releases First Toy List of the 2019 Season</a>,\n",
       " <a href=\"/news/tags/black-friday\">Black Friday</a>,\n",
       " <a href=\"/news/tags/cyber-monday\">Cyber Monday</a>,\n",
       " <a href=\"/news/tags/ad-scans\">Ad Scans</a>,\n",
       " <a href=\"https://blackfriday.com/news\">All News</a>,\n",
       " <a href=\"/about\">ABOUT <i class=\"fas fa-angle-down\"></i></a>,\n",
       " <a href=\"/about/press\">Press</a>,\n",
       " <a href=\"/about/contact\">Contact</a>,\n",
       " <a href=\"/news/black-friday-history\">History of Black Friday</a>,\n",
       " <a href=\"/about/contact#faq\">FAQ</a>,\n",
       " <a href=\"https://www.ziffdavis.com/terms-of-use\" target=\"_new\">Learn More</a>,\n",
       " <a href=\"/\" itemprop=\"item\"><span itemprop=\"name\">Black Friday</span></a>,\n",
       " <a href=\"https://blackfriday.com/ads/black-friday\" itemprop=\"item\"><span itemprop=\"name\">Ad Scans</span></a>,\n",
       " <a href=\"/ads/black-friday/amazon/id/06CQx3uUz1BFRuQSjtyxyNH\"><img alt=\"Amazon\" src=\"https://i.blackfriday.com/imagery/ad-scan-pages/44305.fit_lim.size_400x.v_1568056632.jpg\"/></a>,\n",
       " <a href=\"/ads/black-friday/amazon/id/06CQx3uUz1BFRuQSjtyxyNH\">\n",
       " Amazon Toy List 2019\n",
       " </a>,\n",
       " <a href=\"/ads/black-friday/target/id/06Ak8clolBR1yMqCCYU3YNM\"><img alt=\"Target\" src=\"https://i.blackfriday.com/imagery/ad-scan-pages/44299.fit_lim.size_400x.v_1567527559.jpg\"/></a>,\n",
       " <a href=\"/ads/black-friday/target/id/06Ak8clolBR1yMqCCYU3YNM\">\n",
       " Target 2019 Toy List\n",
       " </a>,\n",
       " <a href=\"/ads/black-friday/walmart/id/07ntbPmBvtjjWKJhUxHdrFp\"><img alt=\"Walmart\" src=\"https://i.blackfriday.com/imagery/print-ad-pages/44216.fit_lim.size_400x.v_1566919081.jpg\"/></a>,\n",
       " <a href=\"/ads/black-friday/walmart/id/07ntbPmBvtjjWKJhUxHdrFp\">\n",
       " Walmart Toy List 2019\n",
       " </a>,\n",
       " <a href=\"/ads/black-friday/walmart\"><img alt=\"Walmart\" src=\"https://i.blackfriday.com/imagery/print-ad-pages/41664.fit_lim.size_400x.v_1560195807.jpg\"/></a>,\n",
       " <a href=\"/ads/black-friday/walmart\">\n",
       " Walmart Black Friday 2018\n",
       " </a>,\n",
       " <a href=\"/ads/black-friday/best-buy\"><img alt=\"Best Buy\" src=\"https://i.blackfriday.com/imagery/print-ad-pages/41612.fit_lim.size_400x.v_1555614811.jpg\"/></a>,\n",
       " <a href=\"/ads/black-friday/best-buy\">\n",
       " Best Buy Black Friday 2018\n",
       " </a>,\n",
       " <a href=\"/ads/black-friday/target\"><img alt=\"Target\" src=\"https://i.blackfriday.com/imagery/print-ad-pages/40230.fit_lim.size_400x.v_1555614955.jpg\"/></a>,\n",
       " <a href=\"/ads/black-friday/target\">\n",
       " Target Black Friday 2018\n",
       " </a>,\n",
       " <a href=\"/ads/black-friday/amazon\"><img alt=\"Amazon\" src=\"https://i.blackfriday.com/imagery/print-ad-pages/42532.fit_lim.size_400x.v_1542556998.jpg\"/></a>,\n",
       " <a href=\"/ads/black-friday/amazon\">\n",
       " Amazon 7 Days of Black Friday\n",
       " </a>,\n",
       " <a href=\"/ads/black-friday/gamestop\"><img alt=\"GameStop\" src=\"https://i.blackfriday.com/imagery/print-ad-pages/42828.fit_lim.size_400x.v_1542731926.jpg\"/></a>,\n",
       " <a href=\"/ads/black-friday/gamestop\">\n",
       " Gamestop Black Friday 2018\n",
       " </a>,\n",
       " <a href=\"/ads/black-friday/macys\"><img alt=\"Macy's\" src=\"https://i.blackfriday.com/imagery/print-ad-pages/40967.fit_lim.size_400x.v_1560196102.jpg\"/></a>,\n",
       " <a href=\"/ads/black-friday/macys\">\n",
       " Macy's Black Friday 2018\n",
       " </a>,\n",
       " <a href=\"/ads/black-friday/kohls\"><img alt=\"Kohl's\" src=\"https://i.blackfriday.com/imagery/print-ad-pages/41730.fit_lim.size_400x.v_1555615323.jpg\"/></a>,\n",
       " <a href=\"/ads/black-friday/kohls\">\n",
       " Kohl's Black Friday 2018\n",
       " </a>,\n",
       " <a href=\"/ads/black-friday/home-depot\"><img alt=\"Home Depot\" src=\"https://i.blackfriday.com/imagery/print-ad-pages/42675.fit_lim.size_400x.v_1560196097.jpg\"/></a>,\n",
       " <a href=\"/ads/black-friday/home-depot\">\n",
       " Home Depot Black Friday 2018\n",
       " </a>,\n",
       " <a href=\"/ads/black-friday/jcpenney\"><img alt=\"JCPenney\" src=\"https://i.blackfriday.com/imagery/print-ad-pages/40403.fit_lim.size_400x.v_1560196084.jpg\"/></a>,\n",
       " <a href=\"/ads/black-friday/jcpenney\">\n",
       " JCPenney Black Friday 2018\n",
       " </a>,\n",
       " <a href=\"/ads/black-friday/home-depot/id/07syV2S7ba6zH97FL5JhF2Y\"><img alt=\"Home Depot\" src=\"https://i.blackfriday.com/imagery/print-ad-pages/43150.fit_lim.size_400x.v_1555615080.jpg\"/></a>,\n",
       " <a href=\"/ads/black-friday/home-depot/id/07syV2S7ba6zH97FL5JhF2Y\">\n",
       "  Home Depot Black Friday 2018\n",
       " </a>,\n",
       " <a href=\"/ads/black-friday/lenovo\"><img alt=\"Lenovo\" src=\"https://i.blackfriday.com/imagery/print-ad-pages/41377.fit_lim.size_400x.v_1542742181.jpg\"/></a>,\n",
       " <a href=\"/ads/black-friday/lenovo\">\n",
       " Lenovo Black Friday &amp; Cyber Monday 2018\n",
       " </a>,\n",
       " <a href=\"/ads/black-friday/dell-consumer/id/04OUJRFwjGpDLwNjWvSgeN6\"><img alt=\"Dell\" src=\"https://i.blackfriday.com/imagery/print-ad-pages/40117.fit_lim.size_400x.v_1542834398.jpg\"/></a>,\n",
       " <a href=\"/ads/black-friday/dell-consumer/id/04OUJRFwjGpDLwNjWvSgeN6\">\n",
       " Dell Home Leaked Black Friday Deals 2018\n",
       " </a>,\n",
       " <a href=\"/ads/black-friday/amazon/id/01xJeIEGIXwWHbVdlPYgSW6\"><img alt=\"Amazon\" src=\"https://i.blackfriday.com/imagery/print-ad-pages/41011.fit_lim.size_400x.v_1542834443.jpg\"/></a>,\n",
       " <a href=\"/ads/black-friday/amazon/id/01xJeIEGIXwWHbVdlPYgSW6\">\n",
       " Amazon Toy Books 2018\n",
       " </a>,\n",
       " <a href=\"/ads/black-friday/kohls/id/02oU37UjY4fOapBipsXQy14\"><img alt=\"Kohl's\" src=\"https://i.blackfriday.com/imagery/print-ad-pages/38993.fit_lim.size_400x.v_1542383895.jpg\"/></a>,\n",
       " <a href=\"/ads/black-friday/kohls/id/02oU37UjY4fOapBipsXQy14\">\n",
       " Kohl's Toy Book 2018\n",
       " </a>,\n",
       " <a href=\"/ads/black-friday/belk\"><img alt=\"belk\" src=\"https://i.blackfriday.com/imagery/print-ad-pages/40663.fit_lim.size_400x.v_1542835351.jpg\"/></a>,\n",
       " <a href=\"/ads/black-friday/belk\">\n",
       " Belk Black Friday 2018\n",
       " </a>,\n",
       " <a href=\"/ads/black-friday/dell-consumer/id/03TothFIxciBqhCEHqkYbwX\"><img alt=\"Dell\" src=\"https://i.blackfriday.com/imagery/ad-scan-pages/44311.fit_lim.size_400x.v_1568219120.jpg\"/></a>,\n",
       " <a href=\"/ads/black-friday/dell-consumer/id/03TothFIxciBqhCEHqkYbwX\">\n",
       " Dell Semi-Annual Sale\n",
       " </a>,\n",
       " <a href=\"/ads/black-friday/home-depot/id/05wk9QCJ6huNN4UtZZb0BiX\"><img alt=\"Home Depot\" src=\"https://i.blackfriday.com/imagery/print-ad-pages/44283.fit_lim.size_400x.v_1567084878.jpg\"/></a>,\n",
       " <a href=\"/ads/black-friday/home-depot/id/05wk9QCJ6huNN4UtZZb0BiX\">\n",
       " Home Depot Labor Day Sale\n",
       " </a>,\n",
       " <a class=\"btn spaced\" href=\"#ads\">See All Ads <i class=\"fa fa-angle-down\"></i></a>,\n",
       " <a class=\"btn spaced\" href=\"#deals\">See Deals <i class=\"fa fa-angle-down\"></i></a>,\n",
       " <a class=\"secondary\" href=\"https://www.ziffdavis.com/terms-of-use\">terms of service</a>,\n",
       " <a class=\"secondary\" href=\"https://www.ziffdavis.com/privacy-policy\">privacy policy</a>,\n",
       " <a name=\"ads\"></a>,\n",
       " <a href=\"/ads/black-friday/ac-moore\">A.C. Moore</a>,\n",
       " <a href=\"/ads/black-friday/abt-electronics/id/04NNoAEcdNWDvSV4VvqWwOE\">Abt Electronics</a>,\n",
       " <a href=\"/ads/black-friday/academy-sports-outdoors\">Academy Sports + Outdoors</a>,\n",
       " <a href=\"/ads/black-friday/ace-hardware/id/03UXFFAvQToAXA1AFfG2F6e\">Ace Hardware</a>,\n",
       " <a href=\"/ads/black-friday/acme-tools\">Acme Tools</a>,\n",
       " <a href=\"/ads/black-friday/aeropostale\">Aeropostale</a>,\n",
       " <a href=\"/ads/black-friday/amazon/id/06CQx3uUz1BFRuQSjtyxyNH\">Amazon</a>,\n",
       " <a href=\"/ads/black-friday/american-eagle\">American Eagle Outfitters</a>,\n",
       " <a href=\"/ads/black-friday/at-home\">At Home</a>,\n",
       " <a href=\"/ads/black-friday/autozone\">AutoZone</a>,\n",
       " <a href=\"/ads/black-friday/barnes-noble/id/06YPMRKJwDckSzVwNbYBhZi\">Barnes and Noble</a>,\n",
       " <a href=\"/ads/black-friday/bass-pro-shops/id/04cVrXhLtLA7ZBtiO5hyg9w\">Bass Pro Shops</a>,\n",
       " <a href=\"/ads/black-friday/bath-body-works\">Bath &amp; Body Works</a>,\n",
       " <a href=\"/ads/black-friday/bed-bath-beyond/id/06O776ZKe4H5cxUGwEJPJKR\">Bed Bath &amp; Beyond</a>,\n",
       " <a href=\"/ads/black-friday/belk\">belk</a>,\n",
       " <a href=\"/ads/black-friday/bergners\">Bergner's</a>,\n",
       " <a href=\"/ads/black-friday/best-buy\">Best Buy</a>,\n",
       " <a href=\"/ads/black-friday/big-5-sporting-goods/id/02sAir9dmIjwYgPnZ68yzYV\">Big 5 Sporting Goods</a>,\n",
       " <a href=\"/ads/black-friday/big-lots/id/02Bp9tflSJf8c9LYGPhDVQr\">Big Lots</a>,\n",
       " <a href=\"/ads/black-friday/bjs/id/03Q3Lf0kZiP2TQ9igPiy6EC\">BJ's Wholesale</a>,\n",
       " <a href=\"/ads/black-friday/blains-farm-fleet/id/01LrJMYSwtMfCG0Y46i1MhT\">Blain's Farm &amp; Fleet</a>,\n",
       " <a href=\"/ads/black-friday/bon-ton\">Bon-Ton</a>,\n",
       " <a href=\"/ads/black-friday/boscovs/id/05RF35CACUusdbBx8zj8rdA\">Boscov's</a>,\n",
       " <a href=\"/ads/black-friday/boston-store\">Boston Store</a>,\n",
       " <a href=\"/ads/black-friday/buildabear\">Build-A-Bear</a>,\n",
       " <a href=\"/ads/black-friday/burlington-coat-factory\">Burlington</a>,\n",
       " <a href=\"/ads/black-friday/cabelas\">Cabela's</a>,\n",
       " <a href=\"/ads/black-friday/carsons\">Carsons</a>,\n",
       " <a href=\"/ads/black-friday/claires\">Claire's</a>,\n",
       " <a href=\"/ads/black-friday/conns\">Conn's HomePlus</a>,\n",
       " <a href=\"/ads/black-friday/costco/id/076mjEfT0R43nhZBa4ZczWC\">Costco</a>,\n",
       " <a href=\"/ads/black-friday/craft-warehouse/id/057l9A1UXEvJWtvavaS2wZO\">Craft Warehouse</a>,\n",
       " <a href=\"/ads/black-friday/cvs\">CVS</a>,\n",
       " <a href=\"/ads/black-friday/dell-consumer/id/04OUJRFwjGpDLwNjWvSgeN6\">Dell</a>,\n",
       " <a href=\"/ads/black-friday/dell-small-business/id/03y9rxKhLyFeEbQ3oz7OsgH\">Dell Small Business</a>,\n",
       " <a href=\"/ads/black-friday/dicks-sporting-goods\">DICK'S Sporting Goods</a>,\n",
       " <a href=\"/ads/black-friday/dollar-general\">Dollar General</a>,\n",
       " <a href=\"/ads/black-friday/dollar-tree\">Dollar Tree</a>,\n",
       " <a href=\"/ads/black-friday/dunhams-sports/id/07fiK3wKykcVHX8fMaTP13d\">Dunham's Sports</a>,\n",
       " <a href=\"/ads/black-friday/ebay\">eBay</a>,\n",
       " <a href=\"/ads/black-friday/eddiebauer\">Eddie Bauer</a>,\n",
       " <a href=\"/ads/black-friday/elder-beerman\">Elder-Beerman</a>,\n",
       " <a href=\"/ads/black-friday/express\">Express</a>,\n",
       " <a href=\"/ads/black-friday/family-dollar/id/04Y0DmqoBulZ2NBoZmmK0rT\">Family Dollar</a>,\n",
       " <a href=\"/ads/black-friday/farm-and-home-supply-center\">Farm &amp; Home Supply Center</a>,\n",
       " <a href=\"/ads/black-friday/five-below\">Five Below</a>,\n",
       " <a href=\"/ads/black-friday/fleet-farm/id/06ec8hWz92vflSRWMEUvosL\">Fleet Farm</a>,\n",
       " <a href=\"/ads/black-friday/freds/id/06U9PYZB9RRDE50vnFW0PTq\">Fred's</a>,\n",
       " <a href=\"/ads/black-friday/fred-meyer/id/05N9550SKEBhK5mepgOVWwb\">Fred Meyer</a>,\n",
       " <a href=\"/ads/black-friday/frys\">Fry's</a>,\n",
       " <a href=\"/ads/black-friday/fye\">fye</a>,\n",
       " <a href=\"/ads/black-friday/gamestop\">GameStop</a>,\n",
       " <a href=\"/ads/black-friday/gander-outdoors/id/06vckEQnNtNtcffGct50CeZ\">Gander Outdoors</a>,\n",
       " <a href=\"/ads/black-friday/gap\">Gap</a>,\n",
       " <a href=\"/ads/black-friday/gordmans\">Gordmans</a>,\n",
       " <a href=\"/ads/black-friday/groupon\">Groupon</a>,\n",
       " <a href=\"/ads/black-friday/guitar-center\">Guitar Center</a>,\n",
       " <a href=\"/ads/black-friday/half-price-books/id/056flxrky49LjD1WK9ggwfs\">Half Price Books</a>,\n",
       " <a href=\"/ads/black-friday/hallmark\">Hallmark Software</a>,\n",
       " <a href=\"/ads/black-friday/harbor-freight/id/07l73TvTcnVUKOSeojOX9tY\">Harbor Freight Tools</a>,\n",
       " <a href=\"/ads/black-friday/herbergers\">Herberger's</a>,\n",
       " <a href=\"/ads/black-friday/hobby-lobby\">Hobby Lobby</a>,\n",
       " <a href=\"/ads/black-friday/home-depot\">Home Depot</a>,\n",
       " <a href=\"/ads/black-friday/hp\">HP</a>,\n",
       " <a href=\"/ads/black-friday/ikea\">IKEA</a>,\n",
       " <a href=\"/ads/black-friday/jcpenney\">JCPenney</a>,\n",
       " <a href=\"/ads/black-friday/jet\">Jet.com</a>,\n",
       " <a href=\"/ads/black-friday/joann-fabric\">Jo-Ann</a>,\n",
       " <a href=\"/ads/black-friday/kmart/id/07nLQ6xk2fzwWPP15x7W3J4\">Kmart</a>,\n",
       " <a href=\"/ads/black-friday/kneipp/id/016elWtbj89bvi9KdVHIz1h\">Kneipp</a>,\n",
       " <a href=\"/ads/black-friday/kohls\">Kohl's</a>,\n",
       " <a href=\"/ads/black-friday/la-z-boy\">La-Z-Boy</a>,\n",
       " <a href=\"/ads/black-friday/lanebryant\">Lane Bryant</a>,\n",
       " <a href=\"/ads/black-friday/lego\">LEGO</a>,\n",
       " <a href=\"/ads/black-friday/lenovo\">Lenovo</a>,\n",
       " <a href=\"/ads/black-friday/lenovo-canada\">Lenovo Canada</a>,\n",
       " <a href=\"/ads/black-friday/lord-taylor\">Lord + Taylor</a>,\n",
       " <a href=\"/ads/black-friday/lowes/id/04g1JlWENAwBWeK6jJGh306\">Lowe's</a>,\n",
       " <a href=\"/ads/black-friday/macmall\">MacMall</a>,\n",
       " <a href=\"/ads/black-friday/macys\">Macy's</a>,\n",
       " <a href=\"/ads/black-friday/mattress-firm\">Mattress Firm</a>,\n",
       " <a href=\"/ads/black-friday/meijer\">Meijer</a>,\n",
       " <a href=\"/ads/black-friday/menards\">Menards</a>,\n",
       " <a href=\"/ads/black-friday/metropcs\">Metro by T-Mobile</a>,\n",
       " <a href=\"/ads/black-friday/michaels\">Michaels</a>,\n",
       " <a href=\"/ads/black-friday/micro-center\">Micro Center</a>,\n",
       " <a href=\"/ads/black-friday/microsoft-store\">Microsoft Store</a>,\n",
       " <a href=\"/ads/black-friday/modells\">Modell's</a>,\n",
       " <a href=\"/ads/black-friday/musicarts\">Music &amp; Arts</a>,\n",
       " <a href=\"/ads/black-friday/navy-exchange\">Navy Exchange</a>,\n",
       " <a href=\"/ads/black-friday/neiman-marcus\">Neiman Marcus</a>,\n",
       " <a href=\"/ads/black-friday/newegg\">Newegg</a>,\n",
       " <a href=\"/ads/black-friday/new-york-company/id/04W2MjpCy226GFcETwh09rb\">New York &amp; Company</a>,\n",
       " <a href=\"/ads/black-friday/nikon\">Nikon</a>,\n",
       " <a href=\"/ads/black-friday/northern-tool/id/06vpc9vHUni4iptDEJAtjun\">Northern Tool &amp; Equipment</a>,\n",
       " <a href=\"/ads/black-friday/office-depot/id/06QU8ZLw2Dh7Wr5RwNLmISj\">Office Depot® &amp; OfficeMax®</a>,\n",
       " <a href=\"/ads/black-friday/old-navy\">Old Navy</a>,\n",
       " <a href=\"/ads/black-friday/olympia-sports/id/06GMl85effJh6EawFALPBrh\">Olympia Sports</a>,\n",
       " <a href=\"/ads/black-friday/overstock-com/id/02cnT8fHfaStMtI4T7LzNTH\">Overstock</a>,\n",
       " <a href=\"/ads/black-friday/pc-richard-son/id/06HgOpgXVcYamBp00ELUNCw\">P.C. Richard &amp; Son</a>,\n",
       " <a href=\"/ads/black-friday/palais-royal\">Palais Royal</a>,\n",
       " <a href=\"/ads/black-friday/pcmag-shop\">PCMag Shop</a>,\n",
       " <a href=\"/ads/black-friday/peebles\">Peebles</a>,\n",
       " <a href=\"/ads/black-friday/pep-boys\">Pep Boys</a>,\n",
       " <a href=\"/ads/black-friday/petco\">Petco</a>,\n",
       " <a href=\"/ads/black-friday/petsmart/id/06c0oG4BcEvXUBbIXstCE2y\">PetSmart</a>,\n",
       " <a href=\"/ads/black-friday/puritans-pride\">Puritan's Pride</a>,\n",
       " <a href=\"/ads/black-friday/qvc\">QVC</a>,\n",
       " <a href=\"/ads/black-friday/rite-aid/id/02C0X8UofVvj30tWQNaS4cE\">Rite Aid</a>,\n",
       " <a href=\"/ads/black-friday/rural-king/id/05Av6g8Suc8Mxwrd3BjXqG1\">Rural King Supply</a>,\n",
       " <a href=\"/ads/black-friday/sams-club\">Sam's Club</a>,\n",
       " <a href=\"/ads/black-friday/samsung\">Samsung</a>,\n",
       " <a href=\"/ads/black-friday/sears\">Sears</a>,\n",
       " <a href=\"/ads/black-friday/sears-hometown-stores\">Sears Hometown Store</a>,\n",
       " <a href=\"/ads/black-friday/sears-outlet\">Sears Outlet</a>,\n",
       " <a href=\"/ads/black-friday/sephora\">Sephora</a>,\n",
       " <a href=\"/ads/black-friday/shoebuy\">Shoes.com</a>,\n",
       " <a href=\"/ads/black-friday/disney-store\">shopDisney</a>,\n",
       " <a href=\"/ads/black-friday/shoplc\">ShopLC</a>,\n",
       " <a href=\"/ads/black-friday/mysimplemobile\">SIMPLE Mobile</a>,\n",
       " <a href=\"/ads/black-friday/sportsmans-warehouse/id/05n3K2jUtLTu94jDusJxcA3\">Sportsman's Warehouse</a>,\n",
       " <a href=\"/ads/black-friday/stage\">Stage Stores</a>,\n",
       " <a href=\"/ads/black-friday/staples/id/01qTM1oqkT4U50ae03nj464\">Staples</a>,\n",
       " <a href=\"/ads/black-friday/steinmart/id/068yG9Hv7bQQKCoq49jh8lj\">Stein Mart</a>,\n",
       " <a href=\"/ads/black-friday/straight-talk\">Straight Talk</a>,\n",
       " <a href=\"/ads/black-friday/swanson\">Swanson</a>,\n",
       " <a href=\"/ads/black-friday/t-mobile\">T-Mobile</a>,\n",
       " <a href=\"/ads/black-friday/target/id/06Ak8clolBR1yMqCCYU3YNM\">Target</a>,\n",
       " <a href=\"/ads/black-friday/childrens-place\">The Children's Place</a>,\n",
       " <a href=\"/ads/black-friday/the-met-store\">THE MET Store</a>,\n",
       " <a href=\"/ads/black-friday/tiger-direct\">Tiger Direct</a>,\n",
       " <a href=\"/ads/black-friday/tommy-hilfiger\">Tommy Hilfiger</a>,\n",
       " <a href=\"/ads/black-friday/total-wireless\">Total Wireless</a>,\n",
       " <a href=\"/ads/black-friday/toy-city\">Toy City</a>,\n",
       " <a href=\"/ads/black-friday/tractor-supply-company/id/01Hq2881dTTtU2Y80cxaDVN\">Tractor Supply Company</a>,\n",
       " <a href=\"/ads/black-friday/true-value/id/01dGN6hjhB9A0Ov3mYG6mW2\">True Value</a>,\n",
       " <a href=\"/ads/black-friday/ulta-beauty\">ULTA</a>,\n",
       " <a href=\"/ads/black-friday/under-armour\">Under Armour</a>,\n",
       " <a href=\"/ads/black-friday/vera-bradley\">Vera Bradley</a>,\n",
       " <a href=\"/ads/black-friday/verizon-fios\">Verizon Fios</a>,\n",
       " <a href=\"/ads/black-friday/verizon\">Verizon Wireless</a>,\n",
       " <a href=\"/ads/black-friday/victorias-secret\">Victoria's Secret</a>,\n",
       " <a href=\"/ads/black-friday/walgreens/id/01DkrXV2QVZ0GM0hhq3PVKA\">Walgreens</a>,\n",
       " <a href=\"/ads/black-friday/walmart/id/07ntbPmBvtjjWKJhUxHdrFp\">Walmart</a>,\n",
       " <a href=\"/ads/black-friday/west-marine\">West Marine</a>,\n",
       " <a href=\"/ads/black-friday/cost-plus-world-market\">World Market</a>,\n",
       " <a href=\"/ads/black-friday/yahoo-small-business\">Yahoo Small Business</a>,\n",
       " <a href=\"/ads/black-friday/younkers\">Younkers</a>,\n",
       " <a name=\"deals\"></a>,\n",
       " <a class=\"image-link\" href=\"https://cc.zdtc.app/otc/00TJYVEe7VpuFpQhOpxcfVu/02zLDwCqTbhlnKCTPdI0yqf?url=https%3A%2F%2Fwww.walmart.com%2Fip%2FFarberware-Stainless-Steel-Knife-Set-with-Cutting-Mats-22-Piece%2F133491184\" rel=\"nofollow\" target=\"_blank\"><img alt=\"$29 Farberware Stainless Steel 22-Piece Knife Set\" src=\"https://i.blackfriday.com/imagery/offers/214267.fit_lpad.size_150x150.v_1569356435.jpg\"/></a>,\n",
       " <a class=\"secondary\" href=\"/walmart-black-friday\">Walmart</a>,\n",
       " <a class=\"secondary\" href=\"https://cc.zdtc.app/otc/00TJYVEe7VpuFpQhOpxcfVu/02zLDwCqTbhlnKCTPdI0yqf?url=https%3A%2F%2Fwww.walmart.com%2Fip%2FFarberware-Stainless-Steel-Knife-Set-with-Cutting-Mats-22-Piece%2F133491184\" rel=\"nofollow\" target=\"_blank\">\n",
       " $29 Farberware Stainless Steel 22-Piece Knife Set\n",
       " </a>,\n",
       " <a class=\"btn open offer-tile-button\" data-coupon-code=\"\" data-domain=\"www.walmart.com\" data-is-expired=\"\" data-offer-id=\"214267\" data-vn-element=\"offer_tile\" data-vn-event-action=\"commerce_click\" data-vn-event-category=\"links\" data-vn-event-label=\"$29 Farberware Stainless Steel 22-Piece Knife Set\" data-vn-item=\"button\" data-vn-module=\"top_offers\" href=\"https://cc.zdtc.app/otc/00TJYVEe7VpuFpQhOpxcfVu/02zLDwCqTbhlnKCTPdI0yqf?url=https%3A%2F%2Fwww.walmart.com%2Fip%2FFarberware-Stainless-Steel-Knife-Set-with-Cutting-Mats-22-Piece%2F133491184\" rel=\"nofollow\" target=\"_blank\">\n",
       " Get Deal\n",
       " </a>,\n",
       " <a class=\"image-link\" href=\"https://cc.zdtc.app/otc/00TJYVEe7VpuFpQhOpxcfVu/02zLDwCqTbhlnKCTPdI0yqf?url=https%3A%2F%2Fwww.walmart.com%2Fbrowse%2Fhome%2Farea-rugs%2F4044_133012_110892_6718514%3Ffacet%3Drecommended_room%253ALiving%2BRoom%257C%257Cspecial_offers%253ARollback%257C%257Cspecial_offers%253AClearance%257C%257Cshelf_id%3A6011183\" rel=\"nofollow\" target=\"_blank\"><img alt=\"Up to 50% off Rugs + Free 2-Day Shipping\" src=\"https://i.blackfriday.com/imagery/offers/214266.fit_lpad.size_150x150.v_1569353354.jpg\"/></a>,\n",
       " <a class=\"secondary\" href=\"/walmart-black-friday\">Walmart</a>,\n",
       " <a class=\"secondary\" href=\"https://cc.zdtc.app/otc/00TJYVEe7VpuFpQhOpxcfVu/02zLDwCqTbhlnKCTPdI0yqf?url=https%3A%2F%2Fwww.walmart.com%2Fbrowse%2Fhome%2Farea-rugs%2F4044_133012_110892_6718514%3Ffacet%3Drecommended_room%253ALiving%2BRoom%257C%257Cspecial_offers%253ARollback%257C%257Cspecial_offers%253AClearance%257C%257Cshelf_id%3A6011183\" rel=\"nofollow\" target=\"_blank\">\n",
       " Up to 50% off Rugs + Free 2-Day Shipping\n",
       " </a>,\n",
       " <a class=\"btn open offer-tile-button\" data-coupon-code=\"\" data-domain=\"www.walmart.com\" data-is-expired=\"\" data-offer-id=\"214266\" data-vn-element=\"offer_tile\" data-vn-event-action=\"commerce_click\" data-vn-event-category=\"links\" data-vn-event-label=\"Up to 50% off Rugs + Free 2-Day Shipping\" data-vn-item=\"button\" data-vn-module=\"top_offers\" href=\"https://cc.zdtc.app/otc/00TJYVEe7VpuFpQhOpxcfVu/02zLDwCqTbhlnKCTPdI0yqf?url=https%3A%2F%2Fwww.walmart.com%2Fbrowse%2Fhome%2Farea-rugs%2F4044_133012_110892_6718514%3Ffacet%3Drecommended_room%253ALiving%2BRoom%257C%257Cspecial_offers%253ARollback%257C%257Cspecial_offers%253AClearance%257C%257Cshelf_id%3A6011183\" rel=\"nofollow\" target=\"_blank\">\n",
       " Get Deal\n",
       " </a>,\n",
       " <a class=\"image-link\" href=\"https://cc.zdtc.app/otc/00TJYVEe7VpuFpQhOpxcfVu/02zLDwCqTbhlnKCTPdI0yqf?url=https%3A%2F%2Fwww.walmart.com%2Fip%2FSomerset-Home-100-Cotton-Hotel-6-Piece-Towel-Set%2F45997834\" rel=\"nofollow\" target=\"_blank\"><img alt=\"$29 Somerset Home 6-Piece Towel Set\" src=\"https://i.blackfriday.com/imagery/offers/214265.fit_lpad.size_150x150.v_1569353269.jpg\"/></a>,\n",
       " <a class=\"secondary\" href=\"/walmart-black-friday\">Walmart</a>,\n",
       " <a class=\"secondary\" href=\"https://cc.zdtc.app/otc/00TJYVEe7VpuFpQhOpxcfVu/02zLDwCqTbhlnKCTPdI0yqf?url=https%3A%2F%2Fwww.walmart.com%2Fip%2FSomerset-Home-100-Cotton-Hotel-6-Piece-Towel-Set%2F45997834\" rel=\"nofollow\" target=\"_blank\">\n",
       " $29 Somerset Home 6-Piece Towel Set\n",
       " </a>,\n",
       " <a class=\"btn open offer-tile-button\" data-coupon-code=\"\" data-domain=\"www.walmart.com\" data-is-expired=\"\" data-offer-id=\"214265\" data-vn-element=\"offer_tile\" data-vn-event-action=\"commerce_click\" data-vn-event-category=\"links\" data-vn-event-label=\"$29 Somerset Home 6-Piece Towel Set\" data-vn-item=\"button\" data-vn-module=\"top_offers\" href=\"https://cc.zdtc.app/otc/00TJYVEe7VpuFpQhOpxcfVu/02zLDwCqTbhlnKCTPdI0yqf?url=https%3A%2F%2Fwww.walmart.com%2Fip%2FSomerset-Home-100-Cotton-Hotel-6-Piece-Towel-Set%2F45997834\" rel=\"nofollow\" target=\"_blank\">\n",
       " Get Deal\n",
       " </a>,\n",
       " <a class=\"image-link\" href=\"https://cc.zdtc.app/otc/00TJYVEe7VpuFpQhOpxcfVu/02zLDwCqTbhlnKCTPdI0yqf?url=https%3A%2F%2Fwww.walmart.com%2Fip%2FCuisinart-Stainless-Steel-Multifunctional-Grill%2F20679142\" rel=\"nofollow\" target=\"_blank\"><img alt=\"$49 Cuisinart Stainless Steel Multifunctional Grill + Free 2-Day Shipping\" src=\"https://i.blackfriday.com/imagery/offers/214264.fit_lpad.size_150x150.v_1569352044.jpg\"/></a>,\n",
       " <a class=\"secondary\" href=\"/walmart-black-friday\">Walmart</a>,\n",
       " <a class=\"secondary\" href=\"https://cc.zdtc.app/otc/00TJYVEe7VpuFpQhOpxcfVu/02zLDwCqTbhlnKCTPdI0yqf?url=https%3A%2F%2Fwww.walmart.com%2Fip%2FCuisinart-Stainless-Steel-Multifunctional-Grill%2F20679142\" rel=\"nofollow\" target=\"_blank\">\n",
       " $49 Cuisinart Stainless Steel Multifunctional Grill + Free 2-Day Shipping\n",
       " </a>,\n",
       " <a class=\"btn open offer-tile-button\" data-coupon-code=\"\" data-domain=\"www.walmart.com\" data-is-expired=\"\" data-offer-id=\"214264\" data-vn-element=\"offer_tile\" data-vn-event-action=\"commerce_click\" data-vn-event-category=\"links\" data-vn-event-label=\"$49 Cuisinart Stainless Steel Multifunctional Grill + Free 2-Day Shipping\" data-vn-item=\"button\" data-vn-module=\"top_offers\" href=\"https://cc.zdtc.app/otc/00TJYVEe7VpuFpQhOpxcfVu/02zLDwCqTbhlnKCTPdI0yqf?url=https%3A%2F%2Fwww.walmart.com%2Fip%2FCuisinart-Stainless-Steel-Multifunctional-Grill%2F20679142\" rel=\"nofollow\" target=\"_blank\">\n",
       " Get Deal\n",
       " </a>,\n",
       " <a class=\"image-link\" href=\"https://cc.zdtc.app/otc/00TJYVEe7VpuFpQhOpxcfVu/02zLDwCqTbhlnKCTPdI0yqf?url=https%3A%2F%2Fwww.walmart.com%2Fip%2FInstant-Pot-LUX60-V3-6-Qt-6-in-1-Multi-Use-Programmable-Pressure-Cooker-Slow-Cooker-Rice-Cooker-Saut-Steamer-and-Warmer%2F55505580\" rel=\"nofollow\" target=\"_blank\"><img alt=\"$59 Instant Pot LUX60 6QT Pressure Cooker + Free 2-Day Shipping\" src=\"https://i.blackfriday.com/imagery/offers/214263.fit_lpad.size_150x150.v_1569351810.jpg\"/></a>,\n",
       " <a class=\"secondary\" href=\"/walmart-black-friday\">Walmart</a>,\n",
       " <a class=\"secondary\" href=\"https://cc.zdtc.app/otc/00TJYVEe7VpuFpQhOpxcfVu/02zLDwCqTbhlnKCTPdI0yqf?url=https%3A%2F%2Fwww.walmart.com%2Fip%2FInstant-Pot-LUX60-V3-6-Qt-6-in-1-Multi-Use-Programmable-Pressure-Cooker-Slow-Cooker-Rice-Cooker-Saut-Steamer-and-Warmer%2F55505580\" rel=\"nofollow\" target=\"_blank\">\n",
       " $59 Instant Pot LUX60 6QT Pressure Cooker + Free 2-Day Shipping\n",
       " </a>,\n",
       " <a class=\"btn open offer-tile-button\" data-coupon-code=\"\" data-domain=\"www.walmart.com\" data-is-expired=\"\" data-offer-id=\"214263\" data-vn-element=\"offer_tile\" data-vn-event-action=\"commerce_click\" data-vn-event-category=\"links\" data-vn-event-label=\"$59 Instant Pot LUX60 6QT Pressure Cooker + Free 2-Day Shipping\" data-vn-item=\"button\" data-vn-module=\"top_offers\" href=\"https://cc.zdtc.app/otc/00TJYVEe7VpuFpQhOpxcfVu/02zLDwCqTbhlnKCTPdI0yqf?url=https%3A%2F%2Fwww.walmart.com%2Fip%2FInstant-Pot-LUX60-V3-6-Qt-6-in-1-Multi-Use-Programmable-Pressure-Cooker-Slow-Cooker-Rice-Cooker-Saut-Steamer-and-Warmer%2F55505580\" rel=\"nofollow\" target=\"_blank\">\n",
       "  Get Deal\n",
       " </a>,\n",
       " <a class=\"image-link\" href=\"https://cc.zdtc.app/otc/00TJYVEe7VpuFpQhOpxcfVu/02zLDwCqTbhlnKCTPdI0yqf?url=https%3A%2F%2Fwww.walmart.com%2Fbrowse%2Fhome-fall-savings-2019%2F0%2F0%2F%3F_refineresult%3Dtrue%26_be_shelf_id%3D1978935%26search_sort%3D100%26facet%3Dshelf_id%3A1978935\" rel=\"nofollow\" target=\"_blank\"><img alt=\"Up to 50% off Walmart Fall Savings Event\" src=\"https://i.blackfriday.com/imagery/offers/214262.fit_lpad.size_150x150.v_1569351436.jpg\"/></a>,\n",
       " <a class=\"secondary\" href=\"/walmart-black-friday\">Walmart</a>,\n",
       " <a class=\"secondary\" href=\"https://cc.zdtc.app/otc/00TJYVEe7VpuFpQhOpxcfVu/02zLDwCqTbhlnKCTPdI0yqf?url=https%3A%2F%2Fwww.walmart.com%2Fbrowse%2Fhome-fall-savings-2019%2F0%2F0%2F%3F_refineresult%3Dtrue%26_be_shelf_id%3D1978935%26search_sort%3D100%26facet%3Dshelf_id%3A1978935\" rel=\"nofollow\" target=\"_blank\">\n",
       " Up to 50% off Walmart Fall Savings Event\n",
       " </a>,\n",
       " <a class=\"btn open offer-tile-button\" data-coupon-code=\"\" data-domain=\"www.walmart.com\" data-is-expired=\"\" data-offer-id=\"214262\" data-vn-element=\"offer_tile\" data-vn-event-action=\"commerce_click\" data-vn-event-category=\"links\" data-vn-event-label=\"Up to 50% off Walmart Fall Savings Event\" data-vn-item=\"button\" data-vn-module=\"top_offers\" href=\"https://cc.zdtc.app/otc/00TJYVEe7VpuFpQhOpxcfVu/02zLDwCqTbhlnKCTPdI0yqf?url=https%3A%2F%2Fwww.walmart.com%2Fbrowse%2Fhome-fall-savings-2019%2F0%2F0%2F%3F_refineresult%3Dtrue%26_be_shelf_id%3D1978935%26search_sort%3D100%26facet%3Dshelf_id%3A1978935\" rel=\"nofollow\" target=\"_blank\">\n",
       " Get Deal\n",
       " </a>,\n",
       " <a class=\"image-link\" href=\"https://cc.zdtc.app/otc/00TJYVEe7VpuFpQhOpxcfVu/02zLDwCqTbhlnKCTPdI0yqf?url=https%3A%2F%2Fwww.walmart.com%2Fbrowse%2Fpatio-garden%2Ffire-pit-tables%2F5428_5026924_2344197_6547968\" rel=\"nofollow\" target=\"_blank\"><img alt=\"Up to 60% off Fire Pits &amp; Fire Tables + Free Shipping\" src=\"https://i.blackfriday.com/imagery/offers/214249.fit_lpad.size_150x150.v_1568221298.jpg\"/></a>,\n",
       " <a class=\"secondary\" href=\"/walmart-black-friday\">Walmart</a>,\n",
       " <a class=\"secondary\" href=\"https://cc.zdtc.app/otc/00TJYVEe7VpuFpQhOpxcfVu/02zLDwCqTbhlnKCTPdI0yqf?url=https%3A%2F%2Fwww.walmart.com%2Fbrowse%2Fpatio-garden%2Ffire-pit-tables%2F5428_5026924_2344197_6547968\" rel=\"nofollow\" target=\"_blank\">\n",
       " Up to 60% off Fire Pits &amp; Fire Tables + Free Shipping\n",
       " </a>,\n",
       " <a class=\"btn open offer-tile-button\" data-coupon-code=\"\" data-domain=\"www.walmart.com\" data-is-expired=\"\" data-offer-id=\"214249\" data-vn-element=\"offer_tile\" data-vn-event-action=\"commerce_click\" data-vn-event-category=\"links\" data-vn-event-label=\"Up to 60% off Fire Pits &amp; Fire Tables + Free Shipping\" data-vn-item=\"button\" data-vn-module=\"top_offers\" href=\"https://cc.zdtc.app/otc/00TJYVEe7VpuFpQhOpxcfVu/02zLDwCqTbhlnKCTPdI0yqf?url=https%3A%2F%2Fwww.walmart.com%2Fbrowse%2Fpatio-garden%2Ffire-pit-tables%2F5428_5026924_2344197_6547968\" rel=\"nofollow\" target=\"_blank\">\n",
       " Get Deal\n",
       " </a>,\n",
       " <a class=\"image-link\" href=\"https://cc.zdtc.app/otc/00TJYVEe7VpuFpQhOpxcfVu/02zLDwCqTbhlnKCTPdI0yqf?url=https%3A%2F%2Fwww.walmart.com%2Fbrowse%2Fhome%2Fyankee-candle%2F4044_133012_2622648_2806582\" rel=\"nofollow\" target=\"_blank\"><img alt=\"Fall Fragrances from Yankee Candle\" src=\"https://i.blackfriday.com/imagery/offers/214261.fit_lpad.size_150x150.v_1568221257.jpg\"/></a>,\n",
       " <a class=\"secondary\" href=\"/walmart-black-friday\">Walmart</a>,\n",
       " <a class=\"secondary\" href=\"https://cc.zdtc.app/otc/00TJYVEe7VpuFpQhOpxcfVu/02zLDwCqTbhlnKCTPdI0yqf?url=https%3A%2F%2Fwww.walmart.com%2Fbrowse%2Fhome%2Fyankee-candle%2F4044_133012_2622648_2806582\" rel=\"nofollow\" target=\"_blank\">\n",
       " Fall Fragrances from Yankee Candle\n",
       " </a>,\n",
       " <a class=\"btn open offer-tile-button\" data-coupon-code=\"\" data-domain=\"www.walmart.com\" data-is-expired=\"\" data-offer-id=\"214261\" data-vn-element=\"offer_tile\" data-vn-event-action=\"commerce_click\" data-vn-event-category=\"links\" data-vn-event-label=\"Fall Fragrances from Yankee Candle\" data-vn-item=\"button\" data-vn-module=\"top_offers\" href=\"https://cc.zdtc.app/otc/00TJYVEe7VpuFpQhOpxcfVu/02zLDwCqTbhlnKCTPdI0yqf?url=https%3A%2F%2Fwww.walmart.com%2Fbrowse%2Fhome%2Fyankee-candle%2F4044_133012_2622648_2806582\" rel=\"nofollow\" target=\"_blank\">\n",
       " Get Deal\n",
       " </a>,\n",
       " <a href=\"/\" title=\"BlackFriday.com\"><img alt=\"BlackFriday.com\" src=\"/images/logo-black.svg\" width=\"161\"/></a>,\n",
       " <a href=\"/about\">About Us</a>,\n",
       " <a href=\"http://www.j2global.com/careers/job-search?location=Austin,%20TX,%20United%20States\" target=\"_blank\">Careers</a>,\n",
       " <a href=\"/sitemap\">Site Map</a>,\n",
       " <a href=\"/about/contact\">Contact</a>,\n",
       " <a href=\"https://www.ziffdavis.com/privacy-policy\" target=\"_blank\">Privacy Policy</a>,\n",
       " <a href=\"https://www.ziffdavis.com/terms-of-use\" target=\"_blank\">Terms Of Use</a>,\n",
       " <a href=\"/about/accessibility-statement\">Accessibility Statement</a>,\n",
       " <a href=\"/black-friday-store-hours\">Black Friday Store Hours</a>,\n",
       " <a href=\"/news/black-friday-ads\">Black Friday Ads</a>,\n",
       " <a href=\"/news/when-is-black-friday-2019\">When is Black Friday 2019</a>,\n",
       " <a href=\"/news/black-friday-history\">History of Black Friday</a>,\n",
       " <a href=\"/cyber-monday\">Cyber Monday</a>,\n",
       " <a aria-label=\"Facebook\" href=\"https://www.facebook.com/blackfridaydeals/\" target=\"_blank\"><i alt=\"Facebook\" class=\"fab fa-facebook-f\"></i></a>,\n",
       " <a aria-label=\"Twitter\" href=\"https://twitter.com/blackfridayinfo\" target=\"_blank\"><i alt=\"Twitter\" aria-label=\"Twitter\" class=\"fab fa-twitter\"></i></a>,\n",
       " <a aria-label=\"Flipboard\" href=\"https://flipboard.com/@blackfriday\" target=\"_blank\"><i alt=\"Flipboard\" class=\"fab fa-flipboard\"></i></a>,\n",
       " <a aria-label=\"Google\" href=\"https://news.google.com/publications/CAAqBwgKMLLaiAsw5MqHAw\" target=\"_blank\"><i class=\"fab fa-google\"></i></a>,\n",
       " <a href=\"//privacy.truste.com/privacy-seal/validation?rid=ce211316-dfd0-4abb-8bfb-9cb70de1e37c\" target=\"_blank\"><img alt=\"TRUSTe\" src=\"//privacy-policy.truste.com/privacy-seal/seal?rid=ce211316-dfd0-4abb-8bfb-9cb70de1e37c\" style=\"border: none\"/></a>,\n",
       " <a class=\"showConsentTool\" href=\"#\" onclick=\"window.zdconsent.showConsentTool(event);\">\n",
       " <img alt=\"AdChoices\" class=\"evidon-consent-link-image\" src=\"https://c.evidon.com/pub/icong1.png\" style=\"vertical-align: middle;\"/> AdChoices\n",
       " </a>]"
      ]
     },
     "execution_count": 70,
     "metadata": {},
     "output_type": "execute_result"
    }
   ],
   "source": [
    "links = soup.find_all('a')\n",
    "links"
   ]
  },
  {
   "cell_type": "code",
   "execution_count": 63,
   "metadata": {},
   "outputs": [
    {
     "ename": "TypeError",
     "evalue": "'ResultSet' object is not callable",
     "output_type": "error",
     "traceback": [
      "\u001b[1;31m---------------------------------------------------------------------------\u001b[0m",
      "\u001b[1;31mTypeError\u001b[0m                                 Traceback (most recent call last)",
      "\u001b[1;32m<ipython-input-63-a550894e1f98>\u001b[0m in \u001b[0;36m<module>\u001b[1;34m\u001b[0m\n\u001b[0;32m      1\u001b[0m \u001b[0mheadlines\u001b[0m\u001b[1;33m=\u001b[0m\u001b[1;33m[\u001b[0m\u001b[1;33m]\u001b[0m\u001b[1;33m\u001b[0m\u001b[1;33m\u001b[0m\u001b[0m\n\u001b[1;32m----> 2\u001b[1;33m \u001b[1;32mfor\u001b[0m \u001b[0mx\u001b[0m \u001b[1;32min\u001b[0m \u001b[0mlinks\u001b[0m\u001b[1;33m(\u001b[0m\u001b[1;36m2\u001b[0m\u001b[1;33m)\u001b[0m\u001b[1;33m:\u001b[0m\u001b[1;33m\u001b[0m\u001b[1;33m\u001b[0m\u001b[0m\n\u001b[0m\u001b[0;32m      3\u001b[0m    \u001b[0mprint\u001b[0m\u001b[1;33m(\u001b[0m\u001b[0mheadlines\u001b[0m\u001b[1;33m[\u001b[0m\u001b[0mx\u001b[0m\u001b[1;33m]\u001b[0m\u001b[1;33m)\u001b[0m\u001b[1;33m\u001b[0m\u001b[1;33m\u001b[0m\u001b[0m\n",
      "\u001b[1;31mTypeError\u001b[0m: 'ResultSet' object is not callable"
     ]
    }
   ],
   "source": [
    "headlines=[]\n",
    "for x in links(2):\n",
    "   print(headlines[x])"
   ]
  },
  {
   "cell_type": "code",
   "execution_count": 55,
   "metadata": {},
   "outputs": [
    {
     "ename": "AttributeError",
     "evalue": "ResultSet object has no attribute 'find'. You're probably treating a list of items like a single item. Did you call find_all() when you meant to call find()?",
     "output_type": "error",
     "traceback": [
      "\u001b[1;31m---------------------------------------------------------------------------\u001b[0m",
      "\u001b[1;31mAttributeError\u001b[0m                            Traceback (most recent call last)",
      "\u001b[1;32m<ipython-input-55-c10fdbfb7c85>\u001b[0m in \u001b[0;36m<module>\u001b[1;34m\u001b[0m\n\u001b[1;32m----> 1\u001b[1;33m \u001b[0mforecast_items\u001b[0m\u001b[1;33m.\u001b[0m\u001b[0mfind\u001b[0m\u001b[1;33m(\u001b[0m\u001b[1;34m'a'\u001b[0m\u001b[1;33m)\u001b[0m\u001b[1;33m\u001b[0m\u001b[1;33m\u001b[0m\u001b[0m\n\u001b[0m",
      "\u001b[1;32m~\\Anaconda3\\lib\\site-packages\\bs4\\element.py\u001b[0m in \u001b[0;36m__getattr__\u001b[1;34m(self, key)\u001b[0m\n\u001b[0;32m   1618\u001b[0m     \u001b[1;32mdef\u001b[0m \u001b[0m__getattr__\u001b[0m\u001b[1;33m(\u001b[0m\u001b[0mself\u001b[0m\u001b[1;33m,\u001b[0m \u001b[0mkey\u001b[0m\u001b[1;33m)\u001b[0m\u001b[1;33m:\u001b[0m\u001b[1;33m\u001b[0m\u001b[1;33m\u001b[0m\u001b[0m\n\u001b[0;32m   1619\u001b[0m         raise AttributeError(\n\u001b[1;32m-> 1620\u001b[1;33m             \u001b[1;34m\"ResultSet object has no attribute '%s'. You're probably treating a list of items like a single item. Did you call find_all() when you meant to call find()?\"\u001b[0m \u001b[1;33m%\u001b[0m \u001b[0mkey\u001b[0m\u001b[1;33m\u001b[0m\u001b[1;33m\u001b[0m\u001b[0m\n\u001b[0m\u001b[0;32m   1621\u001b[0m         )\n",
      "\u001b[1;31mAttributeError\u001b[0m: ResultSet object has no attribute 'find'. You're probably treating a list of items like a single item. Did you call find_all() when you meant to call find()?"
     ]
    }
   ],
   "source": [
    "forecast_items.find('a')"
   ]
  },
  {
   "cell_type": "code",
   "execution_count": 49,
   "metadata": {},
   "outputs": [
    {
     "ename": "TypeError",
     "evalue": "expected string or bytes-like object",
     "output_type": "error",
     "traceback": [
      "\u001b[1;31m---------------------------------------------------------------------------\u001b[0m",
      "\u001b[1;31mTypeError\u001b[0m                                 Traceback (most recent call last)",
      "\u001b[1;32m<ipython-input-49-3c6c62472cfe>\u001b[0m in \u001b[0;36m<module>\u001b[1;34m\u001b[0m\n\u001b[1;32m----> 1\u001b[1;33m \u001b[0msoup\u001b[0m \u001b[1;33m=\u001b[0m \u001b[0mBeautifulSoup\u001b[0m\u001b[1;33m(\u001b[0m\u001b[0mforecast_items\u001b[0m\u001b[1;33m)\u001b[0m\u001b[1;33m\u001b[0m\u001b[1;33m\u001b[0m\u001b[0m\n\u001b[0m",
      "\u001b[1;32m~\\Anaconda3\\lib\\site-packages\\bs4\\__init__.py\u001b[0m in \u001b[0;36m__init__\u001b[1;34m(self, markup, features, builder, parse_only, from_encoding, exclude_encodings, **kwargs)\u001b[0m\n\u001b[0;32m    276\u001b[0m          \u001b[0mself\u001b[0m\u001b[1;33m.\u001b[0m\u001b[0mcontains_replacement_characters\u001b[0m\u001b[1;33m)\u001b[0m \u001b[1;32min\u001b[0m \u001b[1;33m(\u001b[0m\u001b[1;33m\u001b[0m\u001b[1;33m\u001b[0m\u001b[0m\n\u001b[0;32m    277\u001b[0m              self.builder.prepare_markup(\n\u001b[1;32m--> 278\u001b[1;33m                  markup, from_encoding, exclude_encodings=exclude_encodings)):\n\u001b[0m\u001b[0;32m    279\u001b[0m             \u001b[0mself\u001b[0m\u001b[1;33m.\u001b[0m\u001b[0mreset\u001b[0m\u001b[1;33m(\u001b[0m\u001b[1;33m)\u001b[0m\u001b[1;33m\u001b[0m\u001b[1;33m\u001b[0m\u001b[0m\n\u001b[0;32m    280\u001b[0m             \u001b[1;32mtry\u001b[0m\u001b[1;33m:\u001b[0m\u001b[1;33m\u001b[0m\u001b[1;33m\u001b[0m\u001b[0m\n",
      "\u001b[1;32m~\\Anaconda3\\lib\\site-packages\\bs4\\builder\\_lxml.py\u001b[0m in \u001b[0;36mprepare_markup\u001b[1;34m(self, markup, user_specified_encoding, exclude_encodings, document_declared_encoding)\u001b[0m\n\u001b[0;32m    147\u001b[0m         detector = EncodingDetector(\n\u001b[0;32m    148\u001b[0m             markup, try_encodings, is_html, exclude_encodings)\n\u001b[1;32m--> 149\u001b[1;33m         \u001b[1;32mfor\u001b[0m \u001b[0mencoding\u001b[0m \u001b[1;32min\u001b[0m \u001b[0mdetector\u001b[0m\u001b[1;33m.\u001b[0m\u001b[0mencodings\u001b[0m\u001b[1;33m:\u001b[0m\u001b[1;33m\u001b[0m\u001b[1;33m\u001b[0m\u001b[0m\n\u001b[0m\u001b[0;32m    150\u001b[0m             \u001b[1;32myield\u001b[0m \u001b[1;33m(\u001b[0m\u001b[0mdetector\u001b[0m\u001b[1;33m.\u001b[0m\u001b[0mmarkup\u001b[0m\u001b[1;33m,\u001b[0m \u001b[0mencoding\u001b[0m\u001b[1;33m,\u001b[0m \u001b[0mdocument_declared_encoding\u001b[0m\u001b[1;33m,\u001b[0m \u001b[1;32mFalse\u001b[0m\u001b[1;33m)\u001b[0m\u001b[1;33m\u001b[0m\u001b[1;33m\u001b[0m\u001b[0m\n\u001b[0;32m    151\u001b[0m \u001b[1;33m\u001b[0m\u001b[0m\n",
      "\u001b[1;32m~\\Anaconda3\\lib\\site-packages\\bs4\\dammit.py\u001b[0m in \u001b[0;36mencodings\u001b[1;34m(self)\u001b[0m\n\u001b[0;32m    254\u001b[0m         \u001b[1;32mif\u001b[0m \u001b[0mself\u001b[0m\u001b[1;33m.\u001b[0m\u001b[0mdeclared_encoding\u001b[0m \u001b[1;32mis\u001b[0m \u001b[1;32mNone\u001b[0m\u001b[1;33m:\u001b[0m\u001b[1;33m\u001b[0m\u001b[1;33m\u001b[0m\u001b[0m\n\u001b[0;32m    255\u001b[0m             self.declared_encoding = self.find_declared_encoding(\n\u001b[1;32m--> 256\u001b[1;33m                 self.markup, self.is_html)\n\u001b[0m\u001b[0;32m    257\u001b[0m         \u001b[1;32mif\u001b[0m \u001b[0mself\u001b[0m\u001b[1;33m.\u001b[0m\u001b[0m_usable\u001b[0m\u001b[1;33m(\u001b[0m\u001b[0mself\u001b[0m\u001b[1;33m.\u001b[0m\u001b[0mdeclared_encoding\u001b[0m\u001b[1;33m,\u001b[0m \u001b[0mtried\u001b[0m\u001b[1;33m)\u001b[0m\u001b[1;33m:\u001b[0m\u001b[1;33m\u001b[0m\u001b[1;33m\u001b[0m\u001b[0m\n\u001b[0;32m    258\u001b[0m             \u001b[1;32myield\u001b[0m \u001b[0mself\u001b[0m\u001b[1;33m.\u001b[0m\u001b[0mdeclared_encoding\u001b[0m\u001b[1;33m\u001b[0m\u001b[1;33m\u001b[0m\u001b[0m\n",
      "\u001b[1;32m~\\Anaconda3\\lib\\site-packages\\bs4\\dammit.py\u001b[0m in \u001b[0;36mfind_declared_encoding\u001b[1;34m(cls, markup, is_html, search_entire_document)\u001b[0m\n\u001b[0;32m    312\u001b[0m \u001b[1;33m\u001b[0m\u001b[0m\n\u001b[0;32m    313\u001b[0m         \u001b[0mdeclared_encoding\u001b[0m \u001b[1;33m=\u001b[0m \u001b[1;32mNone\u001b[0m\u001b[1;33m\u001b[0m\u001b[1;33m\u001b[0m\u001b[0m\n\u001b[1;32m--> 314\u001b[1;33m         \u001b[0mdeclared_encoding_match\u001b[0m \u001b[1;33m=\u001b[0m \u001b[0mxml_encoding_re\u001b[0m\u001b[1;33m.\u001b[0m\u001b[0msearch\u001b[0m\u001b[1;33m(\u001b[0m\u001b[0mmarkup\u001b[0m\u001b[1;33m,\u001b[0m \u001b[0mendpos\u001b[0m\u001b[1;33m=\u001b[0m\u001b[0mxml_endpos\u001b[0m\u001b[1;33m)\u001b[0m\u001b[1;33m\u001b[0m\u001b[1;33m\u001b[0m\u001b[0m\n\u001b[0m\u001b[0;32m    315\u001b[0m         \u001b[1;32mif\u001b[0m \u001b[1;32mnot\u001b[0m \u001b[0mdeclared_encoding_match\u001b[0m \u001b[1;32mand\u001b[0m \u001b[0mis_html\u001b[0m\u001b[1;33m:\u001b[0m\u001b[1;33m\u001b[0m\u001b[1;33m\u001b[0m\u001b[0m\n\u001b[0;32m    316\u001b[0m             \u001b[0mdeclared_encoding_match\u001b[0m \u001b[1;33m=\u001b[0m \u001b[0mhtml_meta_re\u001b[0m\u001b[1;33m.\u001b[0m\u001b[0msearch\u001b[0m\u001b[1;33m(\u001b[0m\u001b[0mmarkup\u001b[0m\u001b[1;33m,\u001b[0m \u001b[0mendpos\u001b[0m\u001b[1;33m=\u001b[0m\u001b[0mhtml_endpos\u001b[0m\u001b[1;33m)\u001b[0m\u001b[1;33m\u001b[0m\u001b[1;33m\u001b[0m\u001b[0m\n",
      "\u001b[1;31mTypeError\u001b[0m: expected string or bytes-like object"
     ]
    }
   ],
   "source": [
    "soup = BeautifulSoup(forecast_items)\n"
   ]
  },
  {
   "cell_type": "code",
   "execution_count": 56,
   "metadata": {},
   "outputs": [],
   "source": [
    "# Print all ten headlines\n",
    "tds = soup.find_all(class_=\"image-container\")\n",
    "# A blank list to hold the headlines\n",
    "headlines = []\n",
    "# Loop over td elements\n",
    "for td in tds:\n",
    "   # If td element has an anchor...\n",
    "   if (td.a):\n",
    "       # And the anchor has non-blank text...\n",
    "       if (td.a.text):\n",
    "           # Append the td to the list\n",
    "           headlines.append(td)"
   ]
  },
  {
   "cell_type": "code",
   "execution_count": 59,
   "metadata": {},
   "outputs": [
    {
     "ename": "IndexError",
     "evalue": "list index out of range",
     "output_type": "error",
     "traceback": [
      "\u001b[1;31m---------------------------------------------------------------------------\u001b[0m",
      "\u001b[1;31mIndexError\u001b[0m                                Traceback (most recent call last)",
      "\u001b[1;32m<ipython-input-59-4cc077f356eb>\u001b[0m in \u001b[0;36m<module>\u001b[1;34m\u001b[0m\n\u001b[0;32m      1\u001b[0m \u001b[1;31m# Print only the headlines\u001b[0m\u001b[1;33m\u001b[0m\u001b[1;33m\u001b[0m\u001b[1;33m\u001b[0m\u001b[0m\n\u001b[0;32m      2\u001b[0m \u001b[1;32mfor\u001b[0m \u001b[0mx\u001b[0m \u001b[1;32min\u001b[0m \u001b[0mrange\u001b[0m\u001b[1;33m(\u001b[0m\u001b[1;36m2\u001b[0m\u001b[1;33m)\u001b[0m\u001b[1;33m:\u001b[0m\u001b[1;33m\u001b[0m\u001b[1;33m\u001b[0m\u001b[0m\n\u001b[1;32m----> 3\u001b[1;33m    \u001b[0mprint\u001b[0m\u001b[1;33m(\u001b[0m\u001b[0mheadlines\u001b[0m\u001b[1;33m[\u001b[0m\u001b[0mx\u001b[0m\u001b[1;33m]\u001b[0m\u001b[1;33m.\u001b[0m\u001b[0mtext\u001b[0m\u001b[1;33m)\u001b[0m\u001b[1;33m\u001b[0m\u001b[1;33m\u001b[0m\u001b[0m\n\u001b[0m",
      "\u001b[1;31mIndexError\u001b[0m: list index out of range"
     ]
    }
   ],
   "source": [
    "# Print only the headlines\n",
    "for x in range(2):\n",
    "   print(headlines[x].text)"
   ]
  },
  {
   "cell_type": "code",
   "execution_count": 52,
   "metadata": {},
   "outputs": [
    {
     "ename": "ModuleNotFoundError",
     "evalue": "No module named 'urllib2'",
     "output_type": "error",
     "traceback": [
      "\u001b[1;31m---------------------------------------------------------------------------\u001b[0m",
      "\u001b[1;31mModuleNotFoundError\u001b[0m                       Traceback (most recent call last)",
      "\u001b[1;32m<ipython-input-52-0a372a5dc248>\u001b[0m in \u001b[0;36m<module>\u001b[1;34m\u001b[0m\n\u001b[0;32m      1\u001b[0m \u001b[1;32mfrom\u001b[0m \u001b[0mbs4\u001b[0m \u001b[1;32mimport\u001b[0m \u001b[0mBeautifulSoup\u001b[0m\u001b[1;33m\u001b[0m\u001b[1;33m\u001b[0m\u001b[0m\n\u001b[0;32m      2\u001b[0m \u001b[1;31m#from BeautifulSoup import BeautifulSoup\u001b[0m\u001b[1;33m\u001b[0m\u001b[1;33m\u001b[0m\u001b[1;33m\u001b[0m\u001b[0m\n\u001b[1;32m----> 3\u001b[1;33m \u001b[1;32mimport\u001b[0m \u001b[0murllib2\u001b[0m\u001b[1;33m\u001b[0m\u001b[1;33m\u001b[0m\u001b[0m\n\u001b[0m\u001b[0;32m      4\u001b[0m \u001b[1;32mimport\u001b[0m \u001b[0mre\u001b[0m\u001b[1;33m\u001b[0m\u001b[1;33m\u001b[0m\u001b[0m\n\u001b[0;32m      5\u001b[0m \u001b[1;31m#url = \"https://blackfriday.com/ads/black-friday\"\u001b[0m\u001b[1;33m\u001b[0m\u001b[1;33m\u001b[0m\u001b[1;33m\u001b[0m\u001b[0m\n",
      "\u001b[1;31mModuleNotFoundError\u001b[0m: No module named 'urllib2'"
     ]
    }
   ],
   "source": [
    "from bs4 import BeautifulSoup\n",
    "#from BeautifulSoup import BeautifulSoup\n",
    "import urllib2\n",
    "import re\n",
    "#url = \"https://blackfriday.com/ads/black-friday\"\n",
    "def getLinks(url):\n",
    "    html_page = urllib2.urlopen(url)\n",
    "    soup = BeautifulSoup(html_page)\n",
    "    links = []\n",
    "\n",
    "    for link in soup.findAll('a', attrs={'href': re.compile(\"^http://\")}):\n",
    "        links.append(link.get('href'))\n",
    "\n",
    "    return links\n",
    "\n",
    "print( getLinks(\"https://arstechnica.com\") )\n"
   ]
  },
  {
   "cell_type": "code",
   "execution_count": 53,
   "metadata": {},
   "outputs": [
    {
     "ename": "SyntaxError",
     "evalue": "invalid character in identifier (<ipython-input-53-faf214241d35>, line 2)",
     "output_type": "error",
     "traceback": [
      "\u001b[1;36m  File \u001b[1;32m\"<ipython-input-53-faf214241d35>\"\u001b[1;36m, line \u001b[1;32m2\u001b[0m\n\u001b[1;33m    link_text = “”\u001b[0m\n\u001b[1;37m                 ^\u001b[0m\n\u001b[1;31mSyntaxError\u001b[0m\u001b[1;31m:\u001b[0m invalid character in identifier\n"
     ]
    }
   ],
   "source": [
    "soup = BeautifulSoup(html, 'html.parser')\n",
    "link_text = []\n",
    "for a in soup.find_all(‘a’, href=True, text=True):\n",
    "   link_text = a[‘href’]\n",
    "print “Link: “ + link_text"
   ]
  },
  {
   "cell_type": "code",
   "execution_count": 40,
   "metadata": {},
   "outputs": [
    {
     "ename": "TypeError",
     "evalue": "expected string or bytes-like object",
     "output_type": "error",
     "traceback": [
      "\u001b[1;31m---------------------------------------------------------------------------\u001b[0m",
      "\u001b[1;31mTypeError\u001b[0m                                 Traceback (most recent call last)",
      "\u001b[1;32m<ipython-input-40-329a7ed5e810>\u001b[0m in \u001b[0;36m<module>\u001b[1;34m\u001b[0m\n\u001b[1;32m----> 1\u001b[1;33m \u001b[0msoup\u001b[0m \u001b[1;33m=\u001b[0m \u001b[0mBeautifulSoup\u001b[0m\u001b[1;33m(\u001b[0m\u001b[0mforecast_items\u001b[0m\u001b[1;33m)\u001b[0m\u001b[1;33m\u001b[0m\u001b[1;33m\u001b[0m\u001b[0m\n\u001b[0m\u001b[0;32m      2\u001b[0m \u001b[1;32mfor\u001b[0m \u001b[0ma\u001b[0m \u001b[1;32min\u001b[0m \u001b[0msoup\u001b[0m\u001b[1;33m.\u001b[0m\u001b[0mfind_all\u001b[0m\u001b[1;33m(\u001b[0m\u001b[1;34m'a'\u001b[0m\u001b[1;33m,\u001b[0m \u001b[0mhref\u001b[0m\u001b[1;33m=\u001b[0m\u001b[1;32mTrue\u001b[0m\u001b[1;33m)\u001b[0m\u001b[1;33m:\u001b[0m\u001b[1;33m\u001b[0m\u001b[1;33m\u001b[0m\u001b[0m\n\u001b[0;32m      3\u001b[0m  \u001b[1;31m#  print \"Found the URL:\", a['href']\u001b[0m\u001b[1;33m\u001b[0m\u001b[1;33m\u001b[0m\u001b[1;33m\u001b[0m\u001b[0m\n\u001b[0;32m      4\u001b[0m \u001b[1;31m#print(f\"Found the URL:\", a['href']#\u001b[0m\u001b[1;33m\u001b[0m\u001b[1;33m\u001b[0m\u001b[1;33m\u001b[0m\u001b[0m\n\u001b[0;32m      5\u001b[0m    \u001b[0mprint\u001b[0m\u001b[1;33m(\u001b[0m\u001b[1;34mf\"Found the URL: a['href']\"\u001b[0m\u001b[1;33m)\u001b[0m\u001b[1;33m\u001b[0m\u001b[1;33m\u001b[0m\u001b[0m\n",
      "\u001b[1;32m~\\Anaconda3\\lib\\site-packages\\bs4\\__init__.py\u001b[0m in \u001b[0;36m__init__\u001b[1;34m(self, markup, features, builder, parse_only, from_encoding, exclude_encodings, **kwargs)\u001b[0m\n\u001b[0;32m    276\u001b[0m          \u001b[0mself\u001b[0m\u001b[1;33m.\u001b[0m\u001b[0mcontains_replacement_characters\u001b[0m\u001b[1;33m)\u001b[0m \u001b[1;32min\u001b[0m \u001b[1;33m(\u001b[0m\u001b[1;33m\u001b[0m\u001b[1;33m\u001b[0m\u001b[0m\n\u001b[0;32m    277\u001b[0m              self.builder.prepare_markup(\n\u001b[1;32m--> 278\u001b[1;33m                  markup, from_encoding, exclude_encodings=exclude_encodings)):\n\u001b[0m\u001b[0;32m    279\u001b[0m             \u001b[0mself\u001b[0m\u001b[1;33m.\u001b[0m\u001b[0mreset\u001b[0m\u001b[1;33m(\u001b[0m\u001b[1;33m)\u001b[0m\u001b[1;33m\u001b[0m\u001b[1;33m\u001b[0m\u001b[0m\n\u001b[0;32m    280\u001b[0m             \u001b[1;32mtry\u001b[0m\u001b[1;33m:\u001b[0m\u001b[1;33m\u001b[0m\u001b[1;33m\u001b[0m\u001b[0m\n",
      "\u001b[1;32m~\\Anaconda3\\lib\\site-packages\\bs4\\builder\\_lxml.py\u001b[0m in \u001b[0;36mprepare_markup\u001b[1;34m(self, markup, user_specified_encoding, exclude_encodings, document_declared_encoding)\u001b[0m\n\u001b[0;32m    147\u001b[0m         detector = EncodingDetector(\n\u001b[0;32m    148\u001b[0m             markup, try_encodings, is_html, exclude_encodings)\n\u001b[1;32m--> 149\u001b[1;33m         \u001b[1;32mfor\u001b[0m \u001b[0mencoding\u001b[0m \u001b[1;32min\u001b[0m \u001b[0mdetector\u001b[0m\u001b[1;33m.\u001b[0m\u001b[0mencodings\u001b[0m\u001b[1;33m:\u001b[0m\u001b[1;33m\u001b[0m\u001b[1;33m\u001b[0m\u001b[0m\n\u001b[0m\u001b[0;32m    150\u001b[0m             \u001b[1;32myield\u001b[0m \u001b[1;33m(\u001b[0m\u001b[0mdetector\u001b[0m\u001b[1;33m.\u001b[0m\u001b[0mmarkup\u001b[0m\u001b[1;33m,\u001b[0m \u001b[0mencoding\u001b[0m\u001b[1;33m,\u001b[0m \u001b[0mdocument_declared_encoding\u001b[0m\u001b[1;33m,\u001b[0m \u001b[1;32mFalse\u001b[0m\u001b[1;33m)\u001b[0m\u001b[1;33m\u001b[0m\u001b[1;33m\u001b[0m\u001b[0m\n\u001b[0;32m    151\u001b[0m \u001b[1;33m\u001b[0m\u001b[0m\n",
      "\u001b[1;32m~\\Anaconda3\\lib\\site-packages\\bs4\\dammit.py\u001b[0m in \u001b[0;36mencodings\u001b[1;34m(self)\u001b[0m\n\u001b[0;32m    254\u001b[0m         \u001b[1;32mif\u001b[0m \u001b[0mself\u001b[0m\u001b[1;33m.\u001b[0m\u001b[0mdeclared_encoding\u001b[0m \u001b[1;32mis\u001b[0m \u001b[1;32mNone\u001b[0m\u001b[1;33m:\u001b[0m\u001b[1;33m\u001b[0m\u001b[1;33m\u001b[0m\u001b[0m\n\u001b[0;32m    255\u001b[0m             self.declared_encoding = self.find_declared_encoding(\n\u001b[1;32m--> 256\u001b[1;33m                 self.markup, self.is_html)\n\u001b[0m\u001b[0;32m    257\u001b[0m         \u001b[1;32mif\u001b[0m \u001b[0mself\u001b[0m\u001b[1;33m.\u001b[0m\u001b[0m_usable\u001b[0m\u001b[1;33m(\u001b[0m\u001b[0mself\u001b[0m\u001b[1;33m.\u001b[0m\u001b[0mdeclared_encoding\u001b[0m\u001b[1;33m,\u001b[0m \u001b[0mtried\u001b[0m\u001b[1;33m)\u001b[0m\u001b[1;33m:\u001b[0m\u001b[1;33m\u001b[0m\u001b[1;33m\u001b[0m\u001b[0m\n\u001b[0;32m    258\u001b[0m             \u001b[1;32myield\u001b[0m \u001b[0mself\u001b[0m\u001b[1;33m.\u001b[0m\u001b[0mdeclared_encoding\u001b[0m\u001b[1;33m\u001b[0m\u001b[1;33m\u001b[0m\u001b[0m\n",
      "\u001b[1;32m~\\Anaconda3\\lib\\site-packages\\bs4\\dammit.py\u001b[0m in \u001b[0;36mfind_declared_encoding\u001b[1;34m(cls, markup, is_html, search_entire_document)\u001b[0m\n\u001b[0;32m    312\u001b[0m \u001b[1;33m\u001b[0m\u001b[0m\n\u001b[0;32m    313\u001b[0m         \u001b[0mdeclared_encoding\u001b[0m \u001b[1;33m=\u001b[0m \u001b[1;32mNone\u001b[0m\u001b[1;33m\u001b[0m\u001b[1;33m\u001b[0m\u001b[0m\n\u001b[1;32m--> 314\u001b[1;33m         \u001b[0mdeclared_encoding_match\u001b[0m \u001b[1;33m=\u001b[0m \u001b[0mxml_encoding_re\u001b[0m\u001b[1;33m.\u001b[0m\u001b[0msearch\u001b[0m\u001b[1;33m(\u001b[0m\u001b[0mmarkup\u001b[0m\u001b[1;33m,\u001b[0m \u001b[0mendpos\u001b[0m\u001b[1;33m=\u001b[0m\u001b[0mxml_endpos\u001b[0m\u001b[1;33m)\u001b[0m\u001b[1;33m\u001b[0m\u001b[1;33m\u001b[0m\u001b[0m\n\u001b[0m\u001b[0;32m    315\u001b[0m         \u001b[1;32mif\u001b[0m \u001b[1;32mnot\u001b[0m \u001b[0mdeclared_encoding_match\u001b[0m \u001b[1;32mand\u001b[0m \u001b[0mis_html\u001b[0m\u001b[1;33m:\u001b[0m\u001b[1;33m\u001b[0m\u001b[1;33m\u001b[0m\u001b[0m\n\u001b[0;32m    316\u001b[0m             \u001b[0mdeclared_encoding_match\u001b[0m \u001b[1;33m=\u001b[0m \u001b[0mhtml_meta_re\u001b[0m\u001b[1;33m.\u001b[0m\u001b[0msearch\u001b[0m\u001b[1;33m(\u001b[0m\u001b[0mmarkup\u001b[0m\u001b[1;33m,\u001b[0m \u001b[0mendpos\u001b[0m\u001b[1;33m=\u001b[0m\u001b[0mhtml_endpos\u001b[0m\u001b[1;33m)\u001b[0m\u001b[1;33m\u001b[0m\u001b[1;33m\u001b[0m\u001b[0m\n",
      "\u001b[1;31mTypeError\u001b[0m: expected string or bytes-like object"
     ]
    }
   ],
   "source": [
    "soup = BeautifulSoup(forecast_items)\n",
    "for a in soup.find_all('a', href=True):\n",
    " #  print \"Found the URL:\", a['href']\n",
    "#print(f\"Found the URL:\", a['href']#\n",
    "   print(f\"Found the URL: a['href']\")"
   ]
  },
  {
   "cell_type": "code",
   "execution_count": null,
   "metadata": {},
   "outputs": [],
   "source": []
  }
 ],
 "metadata": {
  "kernelspec": {
   "display_name": "Python 3",
   "language": "python",
   "name": "python3"
  },
  "language_info": {
   "codemirror_mode": {
    "name": "ipython",
    "version": 3
   },
   "file_extension": ".py",
   "mimetype": "text/x-python",
   "name": "python",
   "nbconvert_exporter": "python",
   "pygments_lexer": "ipython3",
   "version": "3.7.3"
  }
 },
 "nbformat": 4,
 "nbformat_minor": 2
}
